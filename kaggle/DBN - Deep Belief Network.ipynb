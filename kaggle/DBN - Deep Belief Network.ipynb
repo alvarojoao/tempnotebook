{
 "cells": [
  {
   "cell_type": "code",
   "execution_count": 27,
   "metadata": {
    "collapsed": false
   },
   "outputs": [],
   "source": [
    "import numpy as np\n",
    "import pandas as pd\n",
    "from sklearn.datasets import fetch_mldata\n",
    "from sklearn.preprocessing import MinMaxScaler\n",
    "from sklearn.cross_validation import train_test_split\n",
    "from nolearn.dbn import DBN\n",
    "from sklearn.metrics import classification_report, accuracy_score\n",
    "\n"
   ]
  },
  {
   "cell_type": "code",
   "execution_count": 28,
   "metadata": {
    "collapsed": false
   },
   "outputs": [
    {
     "name": "stdout",
     "output_type": "stream",
     "text": [
      "data(42000,785)\n",
      "labels_flat(42000)\n",
      "images(42000,784)\n"
     ]
    }
   ],
   "source": [
    "# read training data from CSV file \n",
    "data = pd.read_csv('./dataset/train.csv')\n",
    "print('data({0[0]},{0[1]})'.format(data.shape))\n",
    "\n",
    "labels_flat = data[[0]].values.ravel()\n",
    "print('labels_flat({0})'.format(len(labels_flat)))\n",
    "\n",
    "images = data.iloc[:,1:].values\n",
    "images = images.astype(np.float)\n",
    "print('images({0[0]},{0[1]})'.format(images.shape))\n"
   ]
  },
  {
   "cell_type": "code",
   "execution_count": 29,
   "metadata": {
    "collapsed": false
   },
   "outputs": [
    {
     "name": "stdout",
     "output_type": "stream",
     "text": [
      "test_images(28000,784)\n"
     ]
    }
   ],
   "source": [
    "# read test data from CSV file \n",
    "test_images = pd.read_csv('./dataset/test.csv').values\n",
    "test_images = test_images.astype(np.float)\n",
    "\n",
    "print('test_images({0[0]},{0[1]})'.format(test_images.shape))\n"
   ]
  },
  {
   "cell_type": "code",
   "execution_count": 30,
   "metadata": {
    "collapsed": true
   },
   "outputs": [],
   "source": [
    "\n",
    "def train_test_prep(data):\n",
    "    '''\n",
    "    This function will load the MNIST data, scale it to a 0 to 1 range, and split it into test/train sets. \n",
    "    '''\n",
    "    \n",
    "    image_data = data#fetch_mldata('MNIST Original') # Get the MNIST dataset.\n",
    "    \n",
    "    basic_x = data.iloc[:,1:].values#image_data.data\n",
    "    basic_y = data[[0]].values.ravel()#image_data.target # Separate images from their final classification. \n",
    "    \n",
    "    min_max_scaler = MinMaxScaler() # Create the MinMax object.\n",
    "    basic_x = min_max_scaler.fit_transform(basic_x.astype(float)) # Scale pixel intensities only.\n",
    "    \n",
    "    x_train, x_test, y_train, y_test = train_test_split(basic_x, basic_y, \n",
    "                            test_size = 0.2, random_state = 0) # Split training/test.\n",
    "    return x_train, x_test, y_train, y_test\n"
   ]
  },
  {
   "cell_type": "code",
   "execution_count": 41,
   "metadata": {
    "collapsed": false
   },
   "outputs": [],
   "source": [
    "def minMaxScaler(test_images):\n",
    "    min_max_scaler = MinMaxScaler() # Create the MinMax object.\n",
    "    return min_max_scaler.fit_transform(test_images) # Scale pixel intensities only.\n",
    "test_images = minMaxScaler(test_images)"
   ]
  },
  {
   "cell_type": "code",
   "execution_count": 31,
   "metadata": {
    "collapsed": true
   },
   "outputs": [],
   "source": [
    "x_train, x_test, y_train, y_test = train_test_prep(data)"
   ]
  },
  {
   "cell_type": "code",
   "execution_count": 35,
   "metadata": {
    "collapsed": false
   },
   "outputs": [
    {
     "name": "stdout",
     "output_type": "stream",
     "text": [
      "(33600L, 784L)\n",
      "(784L,)\n",
      "(33600L,)\n"
     ]
    }
   ],
   "source": [
    "print x_train.shape\n",
    "print x_train[1].shape\n",
    "\n",
    "print y_train.shape"
   ]
  },
  {
   "cell_type": "code",
   "execution_count": 46,
   "metadata": {
    "collapsed": true
   },
   "outputs": [],
   "source": [
    "    dbn_model = DBN([x_train.shape[1], 300, 10],\n",
    "                    learn_rates = 0.3,\n",
    "                    learn_rate_decays = 0.9,\n",
    "                    epochs = 10,\n",
    "                    dropouts = 0.25, # Express the percentage of nodes that will be randomly dropped as a decimal.\n",
    "                    verbose = 1)"
   ]
  },
  {
   "cell_type": "code",
   "execution_count": 47,
   "metadata": {
    "collapsed": false
   },
   "outputs": [
    {
     "name": "stdout",
     "output_type": "stream",
     "text": [
      "[DBN] fitting X.shape=(33600L, 784L)\n",
      "[DBN] layers [784L, 300, 10]\n",
      "[DBN] Fine-tune...\n"
     ]
    },
    {
     "name": "stderr",
     "output_type": "stream",
     "text": [
      "100%\n"
     ]
    },
    {
     "name": "stdout",
     "output_type": "stream",
     "text": [
      "Epoch 1:\n",
      "  loss 0.438534259668\n",
      "  err  0.136160714286\n",
      "  (0:00:09)\n"
     ]
    },
    {
     "name": "stderr",
     "output_type": "stream",
     "text": [
      "100%\n"
     ]
    },
    {
     "name": "stdout",
     "output_type": "stream",
     "text": [
      "Epoch 2:\n",
      "  loss 0.283104429564\n",
      "  err  0.0850297619048\n",
      "  (0:00:09)\n"
     ]
    },
    {
     "name": "stderr",
     "output_type": "stream",
     "text": [
      "100%\n"
     ]
    },
    {
     "name": "stdout",
     "output_type": "stream",
     "text": [
      "Epoch 3:\n",
      "  loss 0.236100664259\n",
      "  err  0.0710714285714\n",
      "  (0:00:10)\n"
     ]
    },
    {
     "name": "stderr",
     "output_type": "stream",
     "text": [
      "100%\n"
     ]
    },
    {
     "name": "stdout",
     "output_type": "stream",
     "text": [
      "Epoch 4:\n",
      "  loss 0.197359893343\n",
      "  err  0.0602083333333\n",
      "  (0:00:09)\n"
     ]
    },
    {
     "name": "stderr",
     "output_type": "stream",
     "text": [
      "100%\n"
     ]
    },
    {
     "name": "stdout",
     "output_type": "stream",
     "text": [
      "Epoch 5:\n",
      "  loss 0.167593230169\n",
      "  err  0.0528571428571\n",
      "  (0:00:10)\n"
     ]
    },
    {
     "name": "stderr",
     "output_type": "stream",
     "text": [
      "100%\n"
     ]
    },
    {
     "name": "stdout",
     "output_type": "stream",
     "text": [
      "Epoch 6:\n",
      "  loss 0.147610500256\n",
      "  err  0.0471428571429\n",
      "  (0:00:09)\n"
     ]
    },
    {
     "name": "stderr",
     "output_type": "stream",
     "text": [
      "100%\n"
     ]
    },
    {
     "name": "stdout",
     "output_type": "stream",
     "text": [
      "Epoch 7:\n",
      "  loss 0.131190965187\n",
      "  err  0.0425\n",
      "  (0:00:10)\n"
     ]
    },
    {
     "name": "stderr",
     "output_type": "stream",
     "text": [
      "100%\n"
     ]
    },
    {
     "name": "stdout",
     "output_type": "stream",
     "text": [
      "Epoch 8:\n",
      "  loss 0.111093119758\n",
      "  err  0.0360416666667\n",
      "  (0:00:09)\n"
     ]
    },
    {
     "name": "stderr",
     "output_type": "stream",
     "text": [
      "100%\n"
     ]
    },
    {
     "name": "stdout",
     "output_type": "stream",
     "text": [
      "Epoch 9:\n",
      "  loss 0.108087110074\n",
      "  err  0.035625\n",
      "  (0:00:09)\n"
     ]
    },
    {
     "name": "stderr",
     "output_type": "stream",
     "text": [
      "100%\n"
     ]
    },
    {
     "name": "stdout",
     "output_type": "stream",
     "text": [
      "Epoch 10:\n",
      "  loss 0.0945011895363\n",
      "  err  0.0303571428571\n",
      "  (0:00:09)\n"
     ]
    }
   ],
   "source": [
    "dbn_model.fit(x_train, y_train)"
   ]
  },
  {
   "cell_type": "code",
   "execution_count": 48,
   "metadata": {
    "collapsed": false
   },
   "outputs": [
    {
     "name": "stdout",
     "output_type": "stream",
     "text": [
      "             precision    recall  f1-score   support\n",
      "\n",
      "          0       0.99      0.99      0.99       813\n",
      "          1       0.98      0.99      0.98       961\n",
      "          2       0.96      0.98      0.97       860\n",
      "          3       0.99      0.94      0.97       863\n",
      "          4       0.99      0.96      0.97       827\n",
      "          5       0.97      0.98      0.98       756\n",
      "          6       0.97      1.00      0.98       841\n",
      "          7       0.98      0.97      0.97       899\n",
      "          8       0.95      0.98      0.96       768\n",
      "          9       0.96      0.96      0.96       812\n",
      "\n",
      "avg / total       0.97      0.97      0.97      8400\n",
      "\n"
     ]
    }
   ],
   "source": [
    "y_true, y_pred = y_test, dbn_model.predict(x_test) # Get our predictions\n",
    "print(classification_report(y_true, y_pred)) # Classification on each digit"
   ]
  },
  {
   "cell_type": "code",
   "execution_count": 49,
   "metadata": {
    "collapsed": true
   },
   "outputs": [],
   "source": [
    "def saveFileForSubmission(predicted_lables,custonFileName='submission.csv',customHeader='ImageId,Label'):\n",
    "    result = np.c_[range(1,len(predicted_lables)+1),predicted_lables]\n",
    "\n",
    "    np.savetxt(custonFileName, \n",
    "           result.astype(int), \n",
    "           delimiter=',', \n",
    "           header = customHeader, \n",
    "           comments = '', \n",
    "           fmt='%u,%u')"
   ]
  },
  {
   "cell_type": "code",
   "execution_count": 50,
   "metadata": {
    "collapsed": true
   },
   "outputs": [],
   "source": [
    "y_pred = dbn_model.predict(test_images) # Get our predictions\n"
   ]
  },
  {
   "cell_type": "code",
   "execution_count": 51,
   "metadata": {
    "collapsed": true
   },
   "outputs": [],
   "source": [
    "saveFileForSubmission(y_pred,'submission3DBN.csv')"
   ]
  },
  {
   "cell_type": "code",
   "execution_count": null,
   "metadata": {
    "collapsed": true
   },
   "outputs": [],
   "source": []
  }
 ],
 "metadata": {
  "kernelspec": {
   "display_name": "Python 2",
   "language": "python",
   "name": "python2"
  },
  "language_info": {
   "codemirror_mode": {
    "name": "ipython",
    "version": 2
   },
   "file_extension": ".py",
   "mimetype": "text/x-python",
   "name": "python",
   "nbconvert_exporter": "python",
   "pygments_lexer": "ipython2",
   "version": "2.7.11"
  }
 },
 "nbformat": 4,
 "nbformat_minor": 0
}
