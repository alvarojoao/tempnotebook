{
 "cells": [
  {
   "cell_type": "code",
   "execution_count": 10,
   "metadata": {
    "collapsed": false
   },
   "outputs": [],
   "source": [
    "# import the necessary packages\n",
    "from sklearn.cross_validation import train_test_split\n",
    "from sklearn.metrics import classification_report\n",
    "from sklearn import datasets\n",
    "from nolearn.dbn import DBN\n",
    "import numpy as np\n",
    "import cv2"
   ]
  },
  {
   "cell_type": "code",
   "execution_count": null,
   "metadata": {
    "collapsed": false
   },
   "outputs": [
    {
     "name": "stdout",
     "output_type": "stream",
     "text": [
      "[X] downloading data...\n"
     ]
    }
   ],
   "source": [
    "# grab the MNIST dataset (if this is the first time you are running\n",
    "# this script, this make take a minute -- the 55mb MNIST digit dataset\n",
    "# will be downloaded)\n",
    "print \"[X] downloading data...\"\n",
    "dataset = datasets.fetch_mldata(\"MNIST Original\")"
   ]
  },
  {
   "cell_type": "code",
   "execution_count": null,
   "metadata": {
    "collapsed": true
   },
   "outputs": [],
   "source": [
    "# scale the data to the range [0, 1] and then construct the training\n",
    "# and testing splits\n",
    "(trainX, testX, trainY, testY) = train_test_split(\n",
    "\tdataset.data / 255.0, dataset.target.astype(\"int0\"), test_size = 0.33)"
   ]
  },
  {
   "cell_type": "code",
   "execution_count": null,
   "metadata": {
    "collapsed": true
   },
   "outputs": [],
   "source": [
    "# train the Deep Belief Network with 784 input units (the flattened,\n",
    "# 28x28 grayscale image), 300 hidden units, 10 output units (one for\n",
    "# each possible output classification, which are the digits 1-10)\n",
    "dbn = DBN(\n",
    "\t[trainX.shape[1], 300, 10],\n",
    "\tlearn_rates = 0.3,\n",
    "\tlearn_rate_decays = 0.9,\n",
    "\tepochs = 10,\n",
    "\tverbose = 1)\n",
    "dbn.fit(trainX, trainY)"
   ]
  },
  {
   "cell_type": "code",
   "execution_count": null,
   "metadata": {
    "collapsed": true
   },
   "outputs": [],
   "source": [
    "# compute the predictions for the test data and show a classification\n",
    "# report\n",
    "preds = dbn.predict(testX)\n",
    "print classification_report(testY, preds)"
   ]
  },
  {
   "cell_type": "code",
   "execution_count": null,
   "metadata": {
    "collapsed": true
   },
   "outputs": [],
   "source": [
    "# randomly select a few of the test instances\n",
    "for i in np.random.choice(np.arange(0, len(testY)), size = (10,)):\n",
    "\t# classify the digit\n",
    "\tpred = dbn.predict(np.atleast_2d(testX[i]))\n",
    " \n",
    "\t# reshape the feature vector to be a 28x28 pixel image, then change\n",
    "\t# the data type to be an unsigned 8-bit integer\n",
    "\timage = (testX[i] * 255).reshape((28, 28)).astype(\"uint8\")\n",
    " \n",
    "\t# show the image and prediction\n",
    "\tprint \"Actual digit is {0}, predicted {1}\".format(testY[i], pred[0])\n",
    "\tcv2.imshow(\"Digit\", image)\n",
    "\tcv2.waitKey(0)"
   ]
  },
  {
   "cell_type": "code",
   "execution_count": null,
   "metadata": {
    "collapsed": true
   },
   "outputs": [],
   "source": []
  }
 ],
 "metadata": {
  "kernelspec": {
   "display_name": "Python 2",
   "language": "python",
   "name": "python2"
  },
  "language_info": {
   "codemirror_mode": {
    "name": "ipython",
    "version": 2
   },
   "file_extension": ".py",
   "mimetype": "text/x-python",
   "name": "python",
   "nbconvert_exporter": "python",
   "pygments_lexer": "ipython2",
   "version": "2.7.11"
  }
 },
 "nbformat": 4,
 "nbformat_minor": 0
}
