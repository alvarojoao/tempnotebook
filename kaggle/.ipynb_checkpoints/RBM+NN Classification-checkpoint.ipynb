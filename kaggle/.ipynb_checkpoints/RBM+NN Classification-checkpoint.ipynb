{
 "cells": [
  {
   "cell_type": "code",
   "execution_count": 10,
   "metadata": {
    "collapsed": true
   },
   "outputs": [],
   "source": [
    "from pybrain.datasets            import ClassificationDataSet\n",
    "from pybrain.utilities           import percentError\n",
    "from pybrain.tools.shortcuts     import buildNetwork\n",
    "from pybrain.supervised.trainers import BackpropTrainer\n",
    "from pybrain.structure.modules   import SoftmaxLayer\n",
    "from pybrain.tools.xml.networkwriter import NetworkWriter\n",
    "from pybrain.tools.xml.networkreader import NetworkReader\n",
    "\n",
    "\n",
    "import numpy as np\n",
    "import pandas as pd\n",
    "\n",
    "%matplotlib inline\n",
    "import matplotlib.pyplot as plt\n",
    "import matplotlib.cm as cm\n",
    "from scipy.ndimage import convolve\n",
    "from sklearn import linear_model, datasets, metrics\n",
    "from sklearn.cross_validation import train_test_split\n",
    "from sklearn.neural_network import BernoulliRBM\n",
    "from sklearn.pipeline import Pipeline\n",
    "\n",
    "from sklearn.linear_model import LogisticRegressionCV\n",
    "IMAGE_TO_DISPLAY=10\n",
    "\n",
    "SIZE_BLOCK = 10000"
   ]
  },
  {
   "cell_type": "code",
   "execution_count": 2,
   "metadata": {
    "collapsed": true
   },
   "outputs": [],
   "source": [
    "# display image\n",
    "def display(img):\n",
    "    image_size = img.shape[0]\n",
    "    image_width = image_height = np.ceil(np.sqrt(image_size)).astype(np.uint8)\n",
    "    # (784) => (28,28)\n",
    "    one_image = img.reshape(image_width,image_height)\n",
    "    \n",
    "    plt.axis('off')\n",
    "    plt.imshow(one_image, cmap=cm.binary)\n"
   ]
  },
  {
   "cell_type": "code",
   "execution_count": 3,
   "metadata": {
    "collapsed": false
   },
   "outputs": [
    {
     "name": "stdout",
     "output_type": "stream",
     "text": [
      "data(42000,785)\n",
      "   label  pixel0  pixel1  pixel2  pixel3  pixel4  pixel5  pixel6  pixel7  \\\n",
      "0      1       0       0       0       0       0       0       0       0   \n",
      "1      0       0       0       0       0       0       0       0       0   \n",
      "2      1       0       0       0       0       0       0       0       0   \n",
      "3      4       0       0       0       0       0       0       0       0   \n",
      "4      0       0       0       0       0       0       0       0       0   \n",
      "\n",
      "   pixel8    ...     pixel774  pixel775  pixel776  pixel777  pixel778  \\\n",
      "0       0    ...            0         0         0         0         0   \n",
      "1       0    ...            0         0         0         0         0   \n",
      "2       0    ...            0         0         0         0         0   \n",
      "3       0    ...            0         0         0         0         0   \n",
      "4       0    ...            0         0         0         0         0   \n",
      "\n",
      "   pixel779  pixel780  pixel781  pixel782  pixel783  \n",
      "0         0         0         0         0         0  \n",
      "1         0         0         0         0         0  \n",
      "2         0         0         0         0         0  \n",
      "3         0         0         0         0         0  \n",
      "4         0         0         0         0         0  \n",
      "\n",
      "[5 rows x 785 columns]\n",
      "images(42000,784)\n",
      "labels_flat(42000)\n",
      "labels_flat[10] => 8\n"
     ]
    }
   ],
   "source": [
    "# read training data from CSV file \n",
    "data = pd.read_csv('./dataset/train.csv')\n",
    "\n",
    "print('data({0[0]},{0[1]})'.format(data.shape))\n",
    "print (data.head())\n",
    "\n",
    "images = data.iloc[:,1:].values\n",
    "images = images.astype(np.float)\n",
    "\n",
    "print('images({0[0]},{0[1]})'.format(images.shape))\n",
    "labels_flat = data[[0]].values.ravel()\n",
    "\n",
    "print('labels_flat({0})'.format(len(labels_flat)))\n",
    "print ('labels_flat[{0}] => {1}'.format(IMAGE_TO_DISPLAY,labels_flat[IMAGE_TO_DISPLAY]))"
   ]
  },
  {
   "cell_type": "code",
   "execution_count": 4,
   "metadata": {
    "collapsed": false
   },
   "outputs": [
    {
     "name": "stdout",
     "output_type": "stream",
     "text": [
      "test_images(28000,784)\n"
     ]
    }
   ],
   "source": [
    "# read test data from CSV file \n",
    "test_images = pd.read_csv('./dataset/test.csv').values\n",
    "test_images = test_images.astype(np.float)\n",
    "\n",
    "print('test_images({0[0]},{0[1]})'.format(test_images.shape))\n"
   ]
  },
  {
   "cell_type": "code",
   "execution_count": null,
   "metadata": {
    "collapsed": true
   },
   "outputs": [],
   "source": [
    "# Scaling between 0 and 1\n",
    "# test_images = test_images[0:SIZE_BLOCK]\n",
    "test_images = (test_images - np.min(test_images, 0)) / (np.max(test_images, 0) + 0.0001)  # 0-1 scaling\n",
    "# Convert to binary images\n",
    "test_images = test_images > 0.5\n",
    "print('test_images({0[0]},{0[1]})'.format(test_images.shape))\n"
   ]
  },
  {
   "cell_type": "code",
   "execution_count": 5,
   "metadata": {
    "collapsed": false
   },
   "outputs": [
    {
     "data": {
      "image/png": "[encoded data removed]",
      "text/plain": [
       "<matplotlib.figure.Figure at 0x192a4310>"
      ]
     },
     "metadata": {},
     "output_type": "display_data"
    }
   ],
   "source": [
    "display(images[0])\n"
   ]
  },
  {
   "cell_type": "code",
   "execution_count": 6,
   "metadata": {
    "collapsed": false
   },
   "outputs": [
    {
     "name": "stdout",
     "output_type": "stream",
     "text": [
      "('Input X shape', (10000, 784))\n"
     ]
    }
   ],
   "source": [
    "# Scaling between 0 and 1\n",
    "images = images[0:SIZE_BLOCK]\n",
    "labels_flat = labels_flat[0:SIZE_BLOCK]\n",
    "images = (images - np.min(images, 0)) / (np.max(images, 0) + 0.0001)  # 0-1 scaling\n",
    "# Convert to binary images\n",
    "images = images > 0.5\n",
    "print('Input X shape', images.shape)\n"
   ]
  },
  {
   "cell_type": "code",
   "execution_count": 7,
   "metadata": {
    "collapsed": false
   },
   "outputs": [
    {
     "name": "stdout",
     "output_type": "stream",
     "text": [
      "1\n"
     ]
    },
    {
     "data": {
      "image/png": "[encoded data removed]",
      "text/plain": [
       "<matplotlib.figure.Figure at 0x192a41f0>"
      ]
     },
     "metadata": {},
     "output_type": "display_data"
    }
   ],
   "source": [
    "display(images[0])\n",
    "print(labels_flat[0])\n"
   ]
  },
  {
   "cell_type": "code",
   "execution_count": 8,
   "metadata": {
    "collapsed": true
   },
   "outputs": [],
   "source": [
    "rbmWithSup = BernoulliRBM(n_components=200, learning_rate=0.01, batch_size=10, n_iter=40, verbose=True, random_state=None)\n",
    "rbmNoSup = BernoulliRBM(n_components=200, learning_rate=0.01, batch_size=10, n_iter=40, verbose=True, random_state=None)\n",
    "\n",
    "\n",
    "# X_train, X_test, Y_train, Y_test = train_test_split( images, labels_flat, test_size=0.2, random_state=0)\n"
   ]
  },
  {
   "cell_type": "code",
   "execution_count": 11,
   "metadata": {
    "collapsed": false
   },
   "outputs": [
    {
     "name": "stdout",
     "output_type": "stream",
     "text": [
      "[BernoulliRBM] Iteration 1, pseudo-likelihood = -151.38, time = 54.46s\n",
      "[BernoulliRBM] Iteration 2, pseudo-likelihood = -127.40, time = 55.68s\n",
      "[BernoulliRBM] Iteration 3, pseudo-likelihood = -112.53, time = 46.72s\n",
      "[BernoulliRBM] Iteration 4, pseudo-likelihood = -107.59, time = 96.30s\n",
      "[BernoulliRBM] Iteration 5, pseudo-likelihood = -100.87, time = 120.79s\n",
      "[BernoulliRBM] Iteration 6, pseudo-likelihood = -95.75, time = 45.09s\n",
      "[BernoulliRBM] Iteration 7, pseudo-likelihood = -90.71, time = 118.34s\n",
      "[BernoulliRBM] Iteration 8, pseudo-likelihood = -92.80, time = 114.44s\n",
      "[BernoulliRBM] Iteration 9, pseudo-likelihood = -89.27, time = 128.70s\n",
      "[BernoulliRBM] Iteration 10, pseudo-likelihood = -87.41, time = 131.38s\n",
      "[BernoulliRBM] Iteration 11, pseudo-likelihood = -85.12, time = 115.80s\n",
      "[BernoulliRBM] Iteration 12, pseudo-likelihood = -84.15, time = 99.54s\n",
      "[BernoulliRBM] Iteration 13, pseudo-likelihood = -84.65, time = 82.29s\n",
      "[BernoulliRBM] Iteration 14, pseudo-likelihood = -82.31, time = 54655.49s\n",
      "[BernoulliRBM] Iteration 15, pseudo-likelihood = -79.33, time = 58.56s\n",
      "[BernoulliRBM] Iteration 16, pseudo-likelihood = -78.87, time = 47.95s\n",
      "[BernoulliRBM] Iteration 17, pseudo-likelihood = -75.73, time = 109.06s\n",
      "[BernoulliRBM] Iteration 18, pseudo-likelihood = -79.75, time = 59.32s\n",
      "[BernoulliRBM] Iteration 19, pseudo-likelihood = -79.53, time = 74.50s\n",
      "[BernoulliRBM] Iteration 20, pseudo-likelihood = -77.96, time = 40.01s\n",
      "[BernoulliRBM] Iteration 21, pseudo-likelihood = -77.09, time = 39.98s\n",
      "[BernoulliRBM] Iteration 22, pseudo-likelihood = -76.01, time = 74.29s\n",
      "[BernoulliRBM] Iteration 23, pseudo-likelihood = -75.50, time = 78.85s\n",
      "[BernoulliRBM] Iteration 24, pseudo-likelihood = -71.39, time = 53.55s\n",
      "[BernoulliRBM] Iteration 25, pseudo-likelihood = -75.87, time = 40.75s\n",
      "[BernoulliRBM] Iteration 26, pseudo-likelihood = -77.26, time = 39.94s\n",
      "[BernoulliRBM] Iteration 27, pseudo-likelihood = -72.73, time = 41.18s\n",
      "[BernoulliRBM] Iteration 28, pseudo-likelihood = -69.87, time = 42.87s\n",
      "[BernoulliRBM] Iteration 29, pseudo-likelihood = -74.47, time = 104.25s\n",
      "[BernoulliRBM] Iteration 30, pseudo-likelihood = -73.17, time = 115.10s\n",
      "[BernoulliRBM] Iteration 31, pseudo-likelihood = -70.23, time = 44.90s\n",
      "[BernoulliRBM] Iteration 32, pseudo-likelihood = -70.29, time = 39.80s\n",
      "[BernoulliRBM] Iteration 33, pseudo-likelihood = -71.34, time = 64.33s\n",
      "[BernoulliRBM] Iteration 34, pseudo-likelihood = -71.22, time = 60.52s\n",
      "[BernoulliRBM] Iteration 35, pseudo-likelihood = -70.03, time = 68.16s\n",
      "[BernoulliRBM] Iteration 36, pseudo-likelihood = -71.61, time = 39.20s\n",
      "[BernoulliRBM] Iteration 37, pseudo-likelihood = -71.83, time = 39.93s\n",
      "[BernoulliRBM] Iteration 38, pseudo-likelihood = -65.93, time = 53.42s\n",
      "[BernoulliRBM] Iteration 39, pseudo-likelihood = -67.91, time = 81.62s\n",
      "[BernoulliRBM] Iteration 40, pseudo-likelihood = -66.68, time = 41.58s\n"
     ]
    }
   ],
   "source": [
    "# inputForClassificationSuper = rbmWithSup.fit_transform(X_train,Y_train)\n",
    "inputForClassificationNotSuper = rbmNoSup.fit_transform(images)\n",
    "\n"
   ]
  },
  {
   "cell_type": "code",
   "execution_count": 22,
   "metadata": {
    "collapsed": true
   },
   "outputs": [],
   "source": [
    "rbmweights = rbmNoSup.components_[0]"
   ]
  },
  {
   "cell_type": "code",
   "execution_count": 29,
   "metadata": {
    "collapsed": false
   },
   "outputs": [
    {
     "name": "stdout",
     "output_type": "stream",
     "text": [
      "('NN Params length', 25450)\n",
      "[-1.54300051 -0.1824013  -1.64451653 ..., -0.2995343   1.03233876\n",
      " -1.77514661]\n"
     ]
    }
   ],
   "source": [
    "# Training data\n",
    "\n",
    "trds = ClassificationDataSet(784 , 1 , nb_classes=10)\n",
    "\n",
    "for k in xrange(0,5000): \n",
    "    trds.addSample(images[k],labels_flat[k])\n",
    "\n",
    "trds._convertToOneOfMany( )\n",
    "\n",
    "# Test data set\n",
    "\n",
    "# tsds = ClassificationDataSet(256 , 1 , nb_classes=10)\n",
    "\n",
    "# for k in xrange(0,len(test_images)): \n",
    "#     tsds.addSample(test_images[k])\n",
    "\n",
    "# tsds._convertToOneOfMany( )\n",
    "\n",
    "fnn = buildNetwork(trds.indim, 32 , trds.outdim, outclass=SoftmaxLayer)\n",
    "\n",
    "trainer = BackpropTrainer(fnn, dataset=trds, momentum=0.9 , learningrate=0.25, verbose=True, weightdecay=0.01)\n",
    "print( 'NN Params length', len(fnn.params))\n",
    "print(fnn.params)\n"
   ]
  },
  {
   "cell_type": "code",
   "execution_count": 30,
   "metadata": {
    "collapsed": false
   },
   "outputs": [
    {
     "name": "stdout",
     "output_type": "stream",
     "text": [
      "784\n",
      "10\n",
      "('All Params count', 25450)\n",
      "input: dim(8190, 784)\n",
      "[[ 0.  0.  0. ...,  0.  0.  0.]\n",
      " [ 0.  0.  0. ...,  0.  0.  0.]\n",
      " [ 0.  0.  0. ...,  0.  0.  0.]\n",
      " ..., \n",
      " [ 0.  0.  0. ...,  0.  0.  0.]\n",
      " [ 0.  0.  0. ...,  0.  0.  0.]\n",
      " [ 0.  0.  0. ...,  0.  0.  0.]]\n",
      "\n",
      "target: dim(5000, 10)\n",
      "[[0 1 0 ..., 0 0 0]\n",
      " [1 0 0 ..., 0 0 0]\n",
      " [0 1 0 ..., 0 0 0]\n",
      " ..., \n",
      " [0 0 0 ..., 0 1 0]\n",
      " [0 0 0 ..., 1 0 0]\n",
      " [0 0 0 ..., 0 0 1]]\n",
      "\n",
      "class: dim(5000, 1)\n",
      "[[1]\n",
      " [0]\n",
      " [1]\n",
      " ..., \n",
      " [8]\n",
      " [7]\n",
      " [9]]\n",
      "\n",
      "\n"
     ]
    }
   ],
   "source": [
    "print(trds.indim)\n",
    "print(trds.outdim)\n",
    "print('All Params count',trds.indim*32+32*trds.outdim+32+trds.outdim) #last two are the bias\n",
    "print(trds)"
   ]
  },
  {
   "cell_type": "code",
   "execution_count": 31,
   "metadata": {
    "collapsed": false,
    "scrolled": true
   },
   "outputs": [
    {
     "name": "stdout",
     "output_type": "stream",
     "text": [
      "New Params weights: 25450\n"
     ]
    }
   ],
   "source": [
    "#adicionadno pesos do RBM\n",
    "\n",
    "hid2out = np.full( len(fnn.params) - len(rbmweights),1,dtype=np.float)\n",
    "#hid2out = np.random.uniform( -1,1,len(fnn.params) - len(rbmweights))\n",
    "nn_weights = np.concatenate((rbmweights,hid2out),axis=0)\n",
    "\n",
    "print 'New Params weights:', len(nn_weights)\n",
    "\n",
    "fnn._setParameters(nn_weights)\n"
   ]
  },
  {
   "cell_type": "code",
   "execution_count": 32,
   "metadata": {
    "collapsed": false
   },
   "outputs": [
    {
     "name": "stdout",
     "output_type": "stream",
     "text": [
      "('NN Params length', 25450)\n",
      "[-0.09162161 -0.07699555 -0.07555237 ...,  1.          1.          1.        ]\n"
     ]
    }
   ],
   "source": [
    "print( 'NN Params length', len(fnn.params))\n",
    "print(fnn.params)\n"
   ]
  },
  {
   "cell_type": "code",
   "execution_count": 37,
   "metadata": {
    "collapsed": false
   },
   "outputs": [
    {
     "name": "stdout",
     "output_type": "stream",
     "text": [
      "Total error: 0.0512204602845\n",
      "Total error: 0.0522058466204\n",
      "Total error: 0.0513791843762\n",
      "Total error: 0.0510990722002\n",
      "Total error: 0.0509870476259\n",
      "Total error: 0.0517896881311\n",
      "Total error: 0.0518874999871\n",
      "Total error: 0.0515880313897\n",
      "Total error: 0.0520866326424\n",
      "Total error: 0.0517106708332\n",
      "Total error: 0.0524677254554\n",
      "Total error: 0.0518823955095\n",
      "Total error: 0.0525160482571\n",
      "Total error: 0.0526666275469\n",
      "Total error: 0.0511377013686\n",
      "Total error: 0.0518261910807\n",
      "Total error: 0.0521704826935\n",
      "Total error: 0.0515584341453\n",
      "Total error: 0.0526003780083\n",
      "Total error: 0.0513716078218\n",
      "Total error: 0.0522613490374\n",
      "Total error: 0.0524739860235\n",
      "Total error: 0.0518691830838\n",
      "Total error: 0.0519264644536\n",
      "Total error: 0.0520905832215\n",
      "Total error: 0.0526854079642\n",
      "Total error: 0.0517897865242\n",
      "Total error: 0.0517840257011\n",
      "Total error: 0.0524900603678\n",
      "Total error: 0.0522073052021\n",
      "Total error: 0.0523051773742\n",
      "Total error: 0.0523155581428\n",
      "Total error: 0.0522332531571\n",
      "Total error: 0.0518543950293\n",
      "Total error: 0.0529315479054\n",
      "Total error: 0.0511596776242\n",
      "Total error: 0.0510436868961\n",
      "Total error: 0.0520064699026\n",
      "Total error: 0.0510136143552\n",
      "Total error: 0.0504860026394\n",
      "Total error: 0.0521683388591\n",
      "Total error: 0.0513809814148\n",
      "Total error: 0.0529296531217\n",
      "Total error: 0.0518066523711\n",
      "Total error: 0.0521408911786\n",
      "Total error: 0.0517927676903\n",
      "Total error: 0.0525876350914\n",
      "Total error: 0.0526637231567\n",
      "Total error: 0.0523489670638\n",
      "Total error: 0.051798536086\n",
      "Total error: 0.0508543222521\n",
      "Total error: 0.05236577782\n",
      "Total error: 0.0525797484811\n",
      "Total error: 0.0523741884404\n",
      "Total error: 0.0518889807741\n",
      "Total error: 0.0525352374643\n",
      "Total error: 0.0517237308075\n",
      "Total error: 0.0510109484229\n",
      "Total error: 0.0520471505056\n",
      "Total error: 0.0518234463615\n",
      "Total error: 0.0519175475814\n",
      "Total error: 0.0515124630397\n",
      "Total error: 0.0523035328077\n",
      "Total error: 0.0517356967499\n",
      "Total error: 0.0520532265419\n",
      "Total error: 0.051679640353\n",
      "Total error: 0.0520342678423\n",
      "Total error: 0.0517026178348\n",
      "Total error: 0.0511443599143\n",
      "Total error: 0.0512649654524\n",
      "Total error: 0.0516215243874\n",
      "Total error: 0.051903424293\n",
      "Total error: 0.0513343034474\n",
      "Total error: 0.0516697474583\n",
      "Total error: 0.0519759265863\n",
      "Total error: 0.051312032166\n",
      "Total error: 0.0520173855579\n",
      "Total error: 0.0521972987584\n",
      "Total error: 0.0511910102403\n",
      "Total error: 0.052148948505\n",
      "Total error: 0.0515283374587\n",
      "Total error: 0.0519130789257\n",
      "Total error: 0.0513371768204\n",
      "Total error: 0.0526398055927\n",
      "Total error: 0.051636595813\n",
      "Total error: 0.051467905166\n",
      "Total error: 0.0516134059472\n",
      "Total error: 0.0510662986569\n",
      "Total error: 0.0520211060232\n",
      "Total error: 0.0516354576245\n",
      "Total error: 0.0516325319142\n",
      "Total error: 0.051944165975\n",
      "Total error: 0.0514268182204\n",
      "Total error: 0.0520809338418\n",
      "Total error: 0.0520568671714\n",
      "Total error: 0.0525666819132\n",
      "Total error: 0.0521330595096\n",
      "Total error: 0.0517267161419\n",
      "Total error: 0.051698681228\n",
      "Total error: 0.0519763801952\n"
     ]
    }
   ],
   "source": [
    "trainer.trainEpochs(100)"
   ]
  },
  {
   "cell_type": "code",
   "execution_count": 39,
   "metadata": {
    "collapsed": false
   },
   "outputs": [
    {
     "name": "stdout",
     "output_type": "stream",
     "text": [
      "Train Error:  78.5\n"
     ]
    }
   ],
   "source": [
    "\n",
    "print 'Train Error: ' , percentError( trainer.testOnClassData (\n",
    "            )\n",
    "           , trds['class'] ) \n",
    "\n",
    "# print 'Test Error: ' , percentError( trainer.testOnClassData (\n",
    "#            dataset=tsds )\n",
    "#            , tsds['class'] ) \n",
    "           "
   ]
  },
  {
   "cell_type": "code",
   "execution_count": null,
   "metadata": {
    "collapsed": true
   },
   "outputs": [],
   "source": []
  },
  {
   "cell_type": "code",
   "execution_count": null,
   "metadata": {
    "collapsed": true
   },
   "outputs": [],
   "source": []
  }
 ],
 "metadata": {
  "kernelspec": {
   "display_name": "Python 2",
   "language": "python",
   "name": "python2"
  },
  "language_info": {
   "codemirror_mode": {
    "name": "ipython",
    "version": 2
   },
   "file_extension": ".py",
   "mimetype": "text/x-python",
   "name": "python",
   "nbconvert_exporter": "python",
   "pygments_lexer": "ipython2",
   "version": "2.7.9"
  }
 },
 "nbformat": 4,
 "nbformat_minor": 0
}
