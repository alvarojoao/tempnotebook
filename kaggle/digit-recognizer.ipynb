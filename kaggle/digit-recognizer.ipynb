{
 "cells": [
  {
   "cell_type": "code",
   "execution_count": 3,
   "metadata": {
    "collapsed": false
   },
   "outputs": [],
   "source": [
    "import numpy as np\n",
    "import pandas as pd\n",
    "\n",
    "%matplotlib inline\n",
    "import matplotlib.pyplot as plt\n",
    "import matplotlib.cm as cm\n",
    "\n",
    "import tensorflow as tf\n",
    "\n",
    "# settings\n",
    "LEARNING_RATE = 1e-4\n",
    "# set to 20000 on local environment to get 0.99 accuracy\n",
    "TRAINING_ITERATIONS = 2500        \n",
    "    \n",
    "DROPOUT = 0.5\n",
    "BATCH_SIZE = 50\n",
    "\n",
    "# set to 0 to train on all available data\n",
    "VALIDATION_SIZE = 2000\n",
    "\n",
    "# image number to output\n",
    "IMAGE_TO_DISPLAY = 10"
   ]
  },
  {
   "cell_type": "code",
   "execution_count": 4,
   "metadata": {
    "collapsed": false
   },
   "outputs": [
    {
     "name": "stdout",
     "output_type": "stream",
     "text": [
      "data(42000,785)\n",
      "   label  pixel0  pixel1  pixel2  pixel3  pixel4  pixel5  pixel6  pixel7  \\\n",
      "0      1       0       0       0       0       0       0       0       0   \n",
      "1      0       0       0       0       0       0       0       0       0   \n",
      "2      1       0       0       0       0       0       0       0       0   \n",
      "3      4       0       0       0       0       0       0       0       0   \n",
      "4      0       0       0       0       0       0       0       0       0   \n",
      "\n",
      "   pixel8    ...     pixel774  pixel775  pixel776  pixel777  pixel778  \\\n",
      "0       0    ...            0         0         0         0         0   \n",
      "1       0    ...            0         0         0         0         0   \n",
      "2       0    ...            0         0         0         0         0   \n",
      "3       0    ...            0         0         0         0         0   \n",
      "4       0    ...            0         0         0         0         0   \n",
      "\n",
      "   pixel779  pixel780  pixel781  pixel782  pixel783  \n",
      "0         0         0         0         0         0  \n",
      "1         0         0         0         0         0  \n",
      "2         0         0         0         0         0  \n",
      "3         0         0         0         0         0  \n",
      "4         0         0         0         0         0  \n",
      "\n",
      "[5 rows x 785 columns]\n"
     ]
    }
   ],
   "source": [
    "# read training data from CSV file \n",
    "data = pd.read_csv('./dataset/train.csv')\n",
    "\n",
    "print('data({0[0]},{0[1]})'.format(data.shape))\n",
    "print (data.head())"
   ]
  },
  {
   "cell_type": "code",
   "execution_count": 5,
   "metadata": {
    "collapsed": false
   },
   "outputs": [
    {
     "name": "stdout",
     "output_type": "stream",
     "text": [
      "images(42000,784)\n"
     ]
    }
   ],
   "source": [
    "images = data.iloc[:,1:].values\n",
    "images = images.astype(np.float)\n",
    "\n",
    "print('images({0[0]},{0[1]})'.format(images.shape))\n"
   ]
  },
  {
   "cell_type": "code",
   "execution_count": 6,
   "metadata": {
    "collapsed": false
   },
   "outputs": [
    {
     "name": "stdout",
     "output_type": "stream",
     "text": [
      "image_size => 784\n",
      "image_width => 28\n",
      "image_height => 28\n"
     ]
    }
   ],
   "source": [
    "image_size = images.shape[1]\n",
    "print ('image_size => {0}'.format(image_size))\n",
    "\n",
    "# in this case all images are square\n",
    "image_width = image_height = np.ceil(np.sqrt(image_size)).astype(np.uint8)\n",
    "\n",
    "print ('image_width => {0}\\nimage_height => {1}'.format(image_width,image_height))"
   ]
  },
  {
   "cell_type": "code",
   "execution_count": 7,
   "metadata": {
    "collapsed": false
   },
   "outputs": [
    {
     "data": {
      "image/png": "[encoded data removed]",
      "text/plain": [
       "<matplotlib.figure.Figure at 0x7090d50>"
      ]
     },
     "metadata": {},
     "output_type": "display_data"
    }
   ],
   "source": [
    "# display image\n",
    "def display(img):\n",
    "    image_size = img.shape[0]\n",
    "    image_width = image_height = np.ceil(np.sqrt(image_size)).astype(np.uint8)\n",
    "    # (784) => (28,28)\n",
    "    one_image = img.reshape(image_width,image_height)\n",
    "    \n",
    "    plt.axis('off')\n",
    "    plt.imshow(one_image, cmap=cm.binary)\n",
    "\n",
    "# output image     \n",
    "display(images[IMAGE_TO_DISPLAY])"
   ]
  },
  {
   "cell_type": "code",
   "execution_count": 8,
   "metadata": {
    "collapsed": false
   },
   "outputs": [
    {
     "name": "stdout",
     "output_type": "stream",
     "text": [
      "labels_flat(42000)\n",
      "labels_flat[10] => 8\n"
     ]
    }
   ],
   "source": [
    "labels_flat = data[[0]].values.ravel()\n",
    "\n",
    "print('labels_flat({0})'.format(len(labels_flat)))\n",
    "print ('labels_flat[{0}] => {1}'.format(IMAGE_TO_DISPLAY,labels_flat[IMAGE_TO_DISPLAY]))"
   ]
  },
  {
   "cell_type": "code",
   "execution_count": 9,
   "metadata": {
    "collapsed": false
   },
   "outputs": [
    {
     "name": "stdout",
     "output_type": "stream",
     "text": [
      "labels_count => 10\n"
     ]
    }
   ],
   "source": [
    "labels_count = np.unique(labels_flat).shape[0]\n",
    "\n",
    "print('labels_count => {0}'.format(labels_count))"
   ]
  },
  {
   "cell_type": "code",
   "execution_count": 10,
   "metadata": {
    "collapsed": false
   },
   "outputs": [
    {
     "name": "stdout",
     "output_type": "stream",
     "text": [
      "labels(42000,10)\n",
      "labels[10] => [0 0 0 0 0 0 0 0 1 0]\n"
     ]
    }
   ],
   "source": [
    "def dense_to_one_hot(labels_dense, num_classes):\n",
    "    num_labels = labels_dense.shape[0]\n",
    "    index_offset = np.arange(num_labels) * num_classes\n",
    "    labels_one_hot = np.zeros((num_labels, num_classes))\n",
    "    labels_one_hot.flat[index_offset + labels_dense.ravel()] = 1\n",
    "    return labels_one_hot\n",
    "\n",
    "labels = dense_to_one_hot(labels_flat, labels_count)\n",
    "labels = labels.astype(np.uint8)\n",
    "\n",
    "print('labels({0[0]},{0[1]})'.format(labels.shape))\n",
    "print ('labels[{0}] => {1}'.format(IMAGE_TO_DISPLAY,labels[IMAGE_TO_DISPLAY]))"
   ]
  },
  {
   "cell_type": "code",
   "execution_count": 11,
   "metadata": {
    "collapsed": false
   },
   "outputs": [
    {
     "name": "stdout",
     "output_type": "stream",
     "text": [
      "train_images(40000,784)\n",
      "validation_images(2000,784)\n"
     ]
    }
   ],
   "source": [
    "\n",
    "# split data into training & validation\n",
    "validation_images = images[:VALIDATION_SIZE]\n",
    "validation_labels = labels[:VALIDATION_SIZE]\n",
    "\n",
    "train_images = images[VALIDATION_SIZE:]\n",
    "train_labels = labels[VALIDATION_SIZE:]\n",
    "\n",
    "\n",
    "print('train_images({0[0]},{0[1]})'.format(train_images.shape))\n",
    "print('validation_images({0[0]},{0[1]})'.format(validation_images.shape))"
   ]
  },
  {
   "cell_type": "code",
   "execution_count": 12,
   "metadata": {
    "collapsed": true
   },
   "outputs": [],
   "source": [
    "train_labels_flat = labels_flat[VALIDATION_SIZE:]\n",
    "validation_labels_flat = labels_flat[:VALIDATION_SIZE]"
   ]
  },
  {
   "cell_type": "code",
   "execution_count": 13,
   "metadata": {
    "collapsed": false
   },
   "outputs": [
    {
     "name": "stdout",
     "output_type": "stream",
     "text": [
      "test_images(28000,784)\n"
     ]
    }
   ],
   "source": [
    "# read test data from CSV file \n",
    "test_images = pd.read_csv('./dataset/test.csv').values\n",
    "test_images = test_images.astype(np.float)\n",
    "\n",
    "print('test_images({0[0]},{0[1]})'.format(test_images.shape))\n"
   ]
  },
  {
   "cell_type": "code",
   "execution_count": 14,
   "metadata": {
    "collapsed": false
   },
   "outputs": [
    {
     "name": "stdout",
     "output_type": "stream",
     "text": [
      "[0 0 0 1 0 0 0 0 0 0]\n",
      "3\n"
     ]
    }
   ],
   "source": [
    "print(train_labels[0])\n",
    "print(train_labels_flat[0])"
   ]
  },
  {
   "cell_type": "code",
   "execution_count": 15,
   "metadata": {
    "collapsed": true
   },
   "outputs": [],
   "source": [
    "def saveFileForSubmission(predicted_lables,custonFileName='submission.csv',customHeader='ImageId,Label'):\n",
    "    result = np.c_[range(1,len(predicted_lables)+1),predicted_lables]\n",
    "\n",
    "    np.savetxt(custonFileName, \n",
    "           result.astype(int), \n",
    "           delimiter=',', \n",
    "           header = customHeader, \n",
    "           comments = '', \n",
    "           fmt='%u,%u')"
   ]
  },
  {
   "cell_type": "code",
   "execution_count": 23,
   "metadata": {
    "collapsed": false
   },
   "outputs": [],
   "source": [
    "# modelLogregCV = logregCV.fit(validation_images, validation_labels_flat)\n",
    "# total = len(images)\n",
    "# offset = BATCH_SIZE\n",
    "# modelLogregCV = logregCV.fit(images[:offset], labels_flat[:offset])\n",
    "# while(total>offset):\n",
    "#     offset = (offset+BATCH_SIZE) if total>(offset+BATCH_SIZE) else (total)\n",
    "#     modelLogregCV = modelLogregCV.fit(images[offset-BATCH_SIZE:offset], labels_flat[offset-BATCH_SIZE:offset])\n",
    "#     print(offset)\n",
    "    \n",
    "def fitInbatchProcess(model,images,labels=[],BATCH_SIZE=100):\n",
    "    total = len(images)\n",
    "    offset = BATCH_SIZE\n",
    "    print(\"Total of instance %d\"%total)\n",
    "    if len(labels)>0:\n",
    "        model.partial_fit(images[:offset], labels_flat[:offset])\n",
    "    else:\n",
    "        model.partial_fit(images[:offset])\n",
    "    while(total>offset):\n",
    "        \n",
    "        offset = (offset+BATCH_SIZE) if total>(offset+BATCH_SIZE) else (total)\n",
    "        if len(labels)>0:\n",
    "            model.partial_fit(images[:offset], labels_flat[:offset])\n",
    "        else:\n",
    "            model.partial_fit(images[:offset])\n",
    "    return model\n"
   ]
  },
  {
   "cell_type": "markdown",
   "metadata": {
    "collapsed": true
   },
   "source": [
    "Implementando um simples LogisticRegressionCV\n",
    "---------------"
   ]
  },
  {
   "cell_type": "code",
   "execution_count": 14,
   "metadata": {
    "collapsed": true
   },
   "outputs": [],
   "source": [
    "from sklearn.linear_model import LogisticRegressionCV\n",
    "logregCV = LogisticRegressionCV()"
   ]
  },
  {
   "cell_type": "code",
   "execution_count": 15,
   "metadata": {
    "collapsed": false
   },
   "outputs": [
    {
     "name": "stdout",
     "output_type": "stream",
     "text": [
      "(42000, 42000)\n"
     ]
    },
    {
     "data": {
      "text/plain": [
       "array([1, 0, 1, 4, 0, 0, 7, 3, 5, 3], dtype=int64)"
      ]
     },
     "execution_count": 15,
     "metadata": {},
     "output_type": "execute_result"
    }
   ],
   "source": [
    "print(len(labels_flat),len(images))\n",
    "labels_flat[:10]"
   ]
  },
  {
   "cell_type": "code",
   "execution_count": null,
   "metadata": {
    "collapsed": true
   },
   "outputs": [],
   "source": [
    "logregCV.fit(train_images,labels_flat)\n",
    "#can go wrong"
   ]
  },
  {
   "cell_type": "code",
   "execution_count": 27,
   "metadata": {
    "collapsed": false
   },
   "outputs": [
    {
     "data": {
      "text/plain": [
       "array([[  3.21147023e-12,   1.15803847e-05,   4.48877335e-06,\n",
       "          1.01882829e-03,   2.86251336e-02,   5.51919532e-05,\n",
       "          4.31819616e-07,   1.31411566e-06,   9.29941348e-04,\n",
       "          9.69353090e-01],\n",
       "       [  4.92257013e-06,   7.81267167e-05,   4.17218097e-08,\n",
       "          2.40717304e-01,   1.32414174e-05,   5.61287391e-01,\n",
       "          8.58848629e-05,   2.40337133e-07,   1.77431051e-01,\n",
       "          2.03817975e-02],\n",
       "       [  1.30553255e-10,   3.47018159e-05,   9.03169349e-01,\n",
       "          7.65022110e-07,   1.40898835e-03,   3.56153078e-08,\n",
       "          2.21360387e-03,   5.94928640e-07,   4.16944519e-03,\n",
       "          8.90025161e-02],\n",
       "       [  8.70114601e-13,   5.46219849e-07,   5.87299950e-09,\n",
       "          5.68283540e-11,   9.52390856e-01,   7.95711592e-07,\n",
       "          3.49226204e-05,   1.00875085e-03,   3.51582535e-04,\n",
       "          4.62125406e-02],\n",
       "       [  4.60018382e-07,   9.94290896e-01,   6.27288995e-06,\n",
       "          5.91354665e-06,   1.60473965e-05,   8.03795127e-07,\n",
       "          1.59477840e-05,   7.60101810e-09,   5.59446640e-03,\n",
       "          6.91848950e-05],\n",
       "       [  2.00529273e-05,   1.37221844e-08,   1.76572298e-09,\n",
       "          1.14903474e-08,   3.16379507e-06,   6.38233565e-19,\n",
       "          9.99902169e-01,   1.43322722e-12,   7.33884715e-05,\n",
       "          1.19871598e-06],\n",
       "       [  1.30758064e-09,   9.88169711e-01,   4.82134975e-06,\n",
       "          4.55793927e-05,   4.45239612e-09,   6.16427903e-08,\n",
       "          1.95671268e-03,   2.74120220e-09,   9.81845601e-03,\n",
       "          4.64955809e-06],\n",
       "       [  9.36292666e-02,   4.79108633e-07,   1.03210441e-16,\n",
       "          3.92177332e-09,   3.42672985e-03,   8.73806399e-01,\n",
       "          1.78985269e-08,   9.77976664e-03,   1.86072256e-02,\n",
       "          7.50111481e-04],\n",
       "       [  4.41893989e-08,   1.03711208e-03,   5.68683735e-02,\n",
       "          7.24518976e-01,   2.43330903e-06,   7.52727118e-04,\n",
       "          9.38455254e-08,   1.70150500e-09,   2.16819873e-01,\n",
       "          3.64860852e-07],\n",
       "       [  1.23104914e-10,   9.96204158e-01,   5.58149389e-06,\n",
       "          6.63661083e-07,   1.31222159e-07,   4.36169310e-07,\n",
       "          1.28516794e-04,   4.77536018e-07,   3.35421208e-03,\n",
       "          3.05822523e-04]])"
      ]
     },
     "execution_count": 27,
     "metadata": {},
     "output_type": "execute_result"
    }
   ],
   "source": [
    "modelLogregCV.predict_proba(train_images[200:210])\n"
   ]
  },
  {
   "cell_type": "code",
   "execution_count": 21,
   "metadata": {
    "collapsed": false
   },
   "outputs": [
    {
     "data": {
      "text/plain": [
       "array([9, 5, 4, 4, 2, 6, 1, 7, 3, 1], dtype=int64)"
      ]
     },
     "execution_count": 21,
     "metadata": {},
     "output_type": "execute_result"
    }
   ],
   "source": [
    "modelLogregCV.predict(train_images[200:210])"
   ]
  },
  {
   "cell_type": "code",
   "execution_count": 30,
   "metadata": {
    "collapsed": false
   },
   "outputs": [
    {
     "data": {
      "text/plain": [
       "0.81666666666666665"
      ]
     },
     "execution_count": 30,
     "metadata": {},
     "output_type": "execute_result"
    }
   ],
   "source": [
    "modelLogregCV.score(train_images[200:500],train_labels_flat[200:500])"
   ]
  },
  {
   "cell_type": "code",
   "execution_count": 22,
   "metadata": {
    "collapsed": false
   },
   "outputs": [
    {
     "data": {
      "text/plain": [
       "array([2, 0, 4, 9, 2, 7, 0, 3, 0, 4], dtype=int64)"
      ]
     },
     "execution_count": 22,
     "metadata": {},
     "output_type": "execute_result"
    }
   ],
   "source": [
    "predicted_lables = modelLogregCV.predict(test_images)\n",
    "predicted_lables[:10]"
   ]
  },
  {
   "cell_type": "code",
   "execution_count": 23,
   "metadata": {
    "collapsed": false
   },
   "outputs": [],
   "source": [
    "saveFileForSubmission(predicted_lables,'submission2.csv')"
   ]
  },
  {
   "cell_type": "markdown",
   "metadata": {},
   "source": [
    "Implementando um pre-training usando uma rede RBM e um modelo logistico\n",
    "---------------"
   ]
  },
  {
   "cell_type": "code",
   "execution_count": 55,
   "metadata": {
    "collapsed": false
   },
   "outputs": [],
   "source": [
    "from scipy.ndimage import convolve\n",
    "from sklearn import linear_model, datasets, metrics\n",
    "from sklearn.cross_validation import train_test_split\n",
    "from sklearn.neural_network import BernoulliRBM\n",
    "from sklearn.pipeline import Pipeline\n",
    "\n",
    "from sklearn.linear_model import LogisticRegressionCV\n",
    "\n",
    "\n",
    "\n",
    "sGDRegressor = linear_model.SGDRegressor()\n",
    "rbm = BernoulliRBM(random_state=0, verbose=True)\n",
    "images = images[:8000]\n",
    "test_images = test_images[:10000]\n",
    "images = (images - np.min(images, 0)) / (np.max(images, 0) + 0.0001)  # 0-1 scaling\n",
    "test_images = (test_images - np.min(test_images, 0)) / (np.max(test_images, 0) + 0.0001)  # 0-1 scaling\n",
    "\n",
    " "
   ]
  },
  {
   "cell_type": "code",
   "execution_count": 103,
   "metadata": {
    "collapsed": false
   },
   "outputs": [
    {
     "data": {
      "text/plain": [
       "BernoulliRBM(batch_size=10, learning_rate=0.01, n_components=2, n_iter=100,\n",
       "       random_state=None, verbose=0)"
      ]
     },
     "execution_count": 103,
     "metadata": {},
     "output_type": "execute_result"
    }
   ],
   "source": [
    "#####TESTE\n",
    "\n",
    "X = np.array([[0, 0, 0], [0, 1, 1], [1, 0, 1], [1, 1, 1]])\n",
    "Y = np.array([False, False, False, True])\n",
    "\n",
    "model = BernoulliRBM(n_components=2,verbose=0,n_iter=100,learning_rate=0.01)\n",
    "# model.fit(X,Y)\n",
    "model.fit(X)\n"
   ]
  },
  {
   "cell_type": "code",
   "execution_count": 110,
   "metadata": {
    "collapsed": false
   },
   "outputs": [
    {
     "name": "stdout",
     "output_type": "stream",
     "text": [
      "(array([[1, 1, 1]]), array([[0, 0, 0]]), array([[ True]], dtype=bool), array([[False]], dtype=bool))\n",
      "[[ 0.03404341  0.03402762]]\n",
      "[[ 0.12657187  0.12657426]]\n",
      "()\n",
      "[[ 0.03987697  0.0405394 ]]\n",
      "[[ 0.1269633   0.12692855]]\n",
      "()\n",
      "[[ 0.03851654  0.03825919]]\n",
      "[[ 0.12739222  0.12756871]]\n",
      "()\n",
      "[[ 0.03272194  0.03247449]]\n",
      "[[ 0.12739222  0.12756871]]\n"
     ]
    }
   ],
   "source": [
    "t1 = np.array([[1, 1, 1]]).reshape(1,-1)\n",
    "t2 = np.array([[0, 0, 0]]).reshape(1,-1)\n",
    "tt1 = np.array([[True]]).reshape(1,-1)\n",
    "tt2 = np.array([[False]]).reshape(1,-1)\n",
    "print(t1,t2,tt1,tt2)\n",
    "print(model.transform(t1))\n",
    "print(model.transform(t2))\n",
    "print()\n",
    "print(model.fit_transform(t1))\n",
    "print(model.fit_transform(t2))\n",
    "print()\n",
    "print(model.fit_transform(t1,tt1))\n",
    "print(model.fit_transform(t2,tt2))\n",
    "print()\n",
    "print(model.transform(t1))\n",
    "print(model.transform(t2))\n"
   ]
  },
  {
   "cell_type": "code",
   "execution_count": 56,
   "metadata": {
    "collapsed": false
   },
   "outputs": [
    {
     "name": "stdout",
     "output_type": "stream",
     "text": [
      "[BernoulliRBM] Iteration 1, pseudo-likelihood = -211.18, time = 11.46s\n",
      "[BernoulliRBM] Iteration 2, pseudo-likelihood = -136.69, time = 20.49s\n",
      "[BernoulliRBM] Iteration 3, pseudo-likelihood = -126.43, time = 18.14s\n",
      "[BernoulliRBM] Iteration 4, pseudo-likelihood = -116.86, time = 17.22s\n",
      "[BernoulliRBM] Iteration 5, pseudo-likelihood = -110.10, time = 15.95s\n",
      "[BernoulliRBM] Iteration 6, pseudo-likelihood = -102.01, time = 13.08s\n",
      "[BernoulliRBM] Iteration 7, pseudo-likelihood = -101.35, time = 17.78s\n",
      "[BernoulliRBM] Iteration 8, pseudo-likelihood = -103.03, time = 16.90s\n",
      "[BernoulliRBM] Iteration 9, pseudo-likelihood = -97.00, time = 22.18s\n",
      "[BernoulliRBM] Iteration 10, pseudo-likelihood = -90.22, time = 16.28s\n",
      "BernoulliRBM(batch_size=10, learning_rate=0.1, n_components=256, n_iter=10,\n",
      "       random_state=0, verbose=True)\n"
     ]
    }
   ],
   "source": [
    "# rbm.learning_rate = 0.06\n",
    "# rbm.n_iter = 100\n",
    "# More components tend to give better prediction performance, but larger\n",
    "# fitting time\n",
    "# rbm.n_components = 100\n",
    "\n",
    "\n",
    "# rbm = fitInbatchProcess(rbm,images[:len(images)/10])\n",
    "rbm.fit(images[:len(images)/10])\n",
    "print(rbm)\n",
    "\n",
    "# classifier = Pipeline(steps=[('rbm', rbm), ('SGDRegressor', sGDRegressor)])"
   ]
  },
  {
   "cell_type": "code",
   "execution_count": 57,
   "metadata": {
    "collapsed": false
   },
   "outputs": [
    {
     "name": "stdout",
     "output_type": "stream",
     "text": [
      "[[  2.72992859e-04   2.37449457e-01   1.67540356e-06   6.14220832e-08\n",
      "    4.90626122e-05   3.23046138e-06   2.72281331e-04   3.27168912e-08\n",
      "    6.96455264e-08   2.11134964e-10   2.85576090e-10   3.98100562e-05\n",
      "    1.64409642e-04   9.26089115e-03   9.99999083e-01   1.00441493e-08\n",
      "    3.46622369e-05   1.38094387e-03   5.56019564e-05   4.07765465e-02\n",
      "    2.97941976e-03   3.16012543e-04   4.69900695e-04   2.67769902e-05\n",
      "    9.97408626e-01   2.32321326e-06   9.00916798e-05   1.15178575e-04\n",
      "    8.30920502e-08   1.66558136e-05   6.24341729e-06   1.57526941e-02\n",
      "    1.46853270e-03   6.02943290e-06   9.51132650e-04   7.28496842e-09\n",
      "    2.76698575e-04   9.75672080e-01   9.87428112e-01   3.76902977e-10\n",
      "    2.59683829e-04   2.45228419e-05   1.34993905e-10   4.88155575e-08\n",
      "    2.50497810e-06   7.36332564e-06   3.53833779e-05   2.09534516e-09\n",
      "    2.58266605e-05   1.85597724e-07   9.36440377e-05   1.19276211e-03\n",
      "    5.98955645e-04   1.36543543e-07   1.35410522e-05   3.87356169e-05\n",
      "    5.60064841e-03   6.50213937e-08   5.75341941e-08   4.29299984e-05\n",
      "    2.66044153e-06   6.48718682e-06   6.41035095e-05   1.00000000e+00\n",
      "    1.83020909e-04   1.56764548e-05   4.05044289e-05   2.34065925e-05\n",
      "    2.11240381e-04   1.00000000e+00   1.11937050e-04   5.02111797e-02\n",
      "    1.34361477e-05   1.96758560e-03   1.15909211e-01   2.77715144e-07\n",
      "    7.53487863e-05   4.84609676e-03   3.17650532e-08   9.99876797e-01\n",
      "    3.22928059e-03   7.55974471e-05   5.97156065e-08   1.36047442e-05\n",
      "    1.54465024e-03   1.72125480e-06   5.49914202e-05   2.40627887e-05\n",
      "    5.65634924e-10   1.00570874e-02   3.64823889e-07   3.03832011e-03\n",
      "    2.21781258e-05   2.89322530e-04   7.70083505e-08   1.64696468e-01\n",
      "    1.71189296e-05   3.72361074e-04   9.99993764e-01   1.65758154e-01\n",
      "    4.91876926e-07   9.99818628e-01   2.64074224e-04   2.12150136e-02\n",
      "    1.92320302e-06   3.29687992e-12   4.48461093e-07   5.27000636e-07\n",
      "    1.46970878e-03   9.27261587e-02   6.16872757e-04   1.84213367e-07\n",
      "    2.02083976e-01   3.66398815e-04   9.26687318e-01   2.28825205e-04\n",
      "    5.58511212e-05   4.71795381e-05   9.24219329e-08   9.43191542e-05\n",
      "    3.55132682e-04   2.07572171e-03   9.66815855e-06   2.07308222e-04\n",
      "    1.11776767e-01   9.99996276e-01   1.48793302e-04   2.92877150e-05\n",
      "    5.16836292e-04   9.99999960e-01   2.69685917e-04   1.31282472e-05\n",
      "    4.73995873e-02   1.95859310e-05   1.99131249e-02   1.18212637e-05\n",
      "    1.00112752e-03   1.00000000e+00   1.76852910e-02   2.64048437e-04\n",
      "    4.17924436e-05   6.92226052e-05   2.25019794e-05   3.19604804e-01\n",
      "    3.29038752e-04   7.15119423e-02   8.46551330e-05   7.23879306e-04\n",
      "    9.99842523e-01   4.68988432e-05   3.11349793e-04   1.54337931e-02\n",
      "    2.19801796e-01   1.50089652e-05   9.92834125e-01   9.99826248e-01\n",
      "    9.32322874e-01   2.59992753e-06   8.33709212e-05   1.88888106e-03\n",
      "    2.58470141e-05   1.52330496e-06   1.13170284e-08   6.47135120e-07\n",
      "    7.15202403e-05   1.86960406e-05   9.72635402e-01   1.15619541e-04\n",
      "    9.54813805e-11   6.38668182e-05   6.77824366e-03   9.19664295e-06\n",
      "    3.75941114e-08   1.86612404e-04   8.97824228e-03   5.34798338e-11\n",
      "    2.95396122e-04   1.04431879e-01   1.02236724e-05   1.12067421e-07\n",
      "    1.66314295e-02   2.92710577e-05   5.16123920e-09   3.46875765e-02\n",
      "    7.91676776e-01   4.28628070e-05   1.22476327e-03   9.99999881e-01\n",
      "    1.76043859e-04   7.21972567e-07   1.90232139e-08   1.59074794e-07\n",
      "    2.65005771e-03   1.21485241e-05   2.06134141e-03   9.99732300e-01\n",
      "    6.77029970e-07   9.87016721e-03   8.33716326e-05   9.98712333e-01\n",
      "    1.93531560e-07   3.10479113e-03   2.02121726e-07   1.90730316e-04\n",
      "    5.62281989e-06   1.62974806e-05   2.61685586e-05   1.35194630e-06\n",
      "    4.12373884e-02   1.92545564e-03   4.37956891e-06   6.65425782e-07\n",
      "    5.02117028e-05   2.75212066e-06   1.42162969e-03   3.56015897e-08\n",
      "    3.86721146e-10   4.79867632e-11   2.09886717e-04   1.36614477e-11\n",
      "    3.70131407e-06   9.99999965e-01   1.67117317e-04   1.24868713e-05\n",
      "    5.36405968e-05   9.99999997e-01   1.73728706e-07   1.56573807e-04\n",
      "    6.16399336e-08   3.66062558e-04   1.32986792e-04   1.34259373e-03\n",
      "    2.66292800e-13   9.40526590e-05   8.14129964e-05   5.27134362e-05\n",
      "    2.15193451e-02   7.58592266e-06   8.97192186e-06   1.42066141e-06\n",
      "    1.66283447e-07   5.04379993e-02   3.77021681e-06   5.25616002e-01\n",
      "    8.47016700e-05   2.57671466e-02   7.21864503e-06   2.03435139e-05\n",
      "    1.00000000e+00   4.41725131e-07   7.70617367e-05   2.63099852e-06\n",
      "    2.08204175e-05   5.38848550e-02   3.51726075e-05   1.06198504e-04]]\n"
     ]
    },
    {
     "data": {
      "text/plain": [
       "10000"
      ]
     },
     "execution_count": 57,
     "metadata": {},
     "output_type": "execute_result"
    }
   ],
   "source": [
    "testimagesFeatured = rbm.transform(test_images)\n",
    "\n",
    "print(testimagesFeatured[0:1])\n",
    "len(testimagesFeatured)"
   ]
  },
  {
   "cell_type": "code",
   "execution_count": 58,
   "metadata": {
    "collapsed": false
   },
   "outputs": [
    {
     "data": {
      "text/plain": [
       "256"
      ]
     },
     "execution_count": 58,
     "metadata": {},
     "output_type": "execute_result"
    }
   ],
   "source": [
    "testimagesFeatured\n",
    "len(testimagesFeatured[0])\n"
   ]
  },
  {
   "cell_type": "code",
   "execution_count": 59,
   "metadata": {
    "collapsed": false,
    "scrolled": true
   },
   "outputs": [
    {
     "name": "stdout",
     "output_type": "stream",
     "text": [
      "[BernoulliRBM] Iteration 1, pseudo-likelihood = -120.03, time = 83.72s\n",
      "[BernoulliRBM] Iteration 2, pseudo-likelihood = -106.29, time = 143.94s\n",
      "[BernoulliRBM] Iteration 3, pseudo-likelihood = -103.94, time = 130.17s\n",
      "[BernoulliRBM] Iteration 4, pseudo-likelihood = -100.56, time = 162.11s\n"
     ]
    },
    {
     "ename": "KeyboardInterrupt",
     "evalue": "",
     "output_type": "error",
     "traceback": [
      "\u001b[1;31m---------------------------------------------------------------------------\u001b[0m",
      "\u001b[1;31mKeyboardInterrupt\u001b[0m                         Traceback (most recent call last)",
      "\u001b[1;32m<ipython-input-59-4626dc810bda>\u001b[0m in \u001b[0;36m<module>\u001b[1;34m()\u001b[0m\n\u001b[0;32m      1\u001b[0m \u001b[1;31m# Training RBM-SGDRegressor\u001b[0m\u001b[1;33m\u001b[0m\u001b[1;33m\u001b[0m\u001b[0m\n\u001b[1;32m----> 2\u001b[1;33m \u001b[0mimagesFeatured\u001b[0m \u001b[1;33m=\u001b[0m \u001b[0mrbm\u001b[0m\u001b[1;33m.\u001b[0m\u001b[0mfit_transform\u001b[0m\u001b[1;33m(\u001b[0m\u001b[0mimages\u001b[0m\u001b[1;33m[\u001b[0m\u001b[0mlen\u001b[0m\u001b[1;33m(\u001b[0m\u001b[0mimages\u001b[0m\u001b[1;33m)\u001b[0m\u001b[1;33m/\u001b[0m\u001b[1;36m10\u001b[0m\u001b[1;33m:\u001b[0m\u001b[1;33m]\u001b[0m\u001b[1;33m)\u001b[0m\u001b[1;33m\u001b[0m\u001b[0m\n\u001b[0m\u001b[0;32m      3\u001b[0m \u001b[1;31m# print(imagesFeatured[0])\u001b[0m\u001b[1;33m\u001b[0m\u001b[1;33m\u001b[0m\u001b[0m\n\u001b[0;32m      4\u001b[0m \u001b[0msGDRegressor\u001b[0m \u001b[1;33m=\u001b[0m \u001b[0mfitInbatchProcess\u001b[0m\u001b[1;33m(\u001b[0m\u001b[0msGDRegressor\u001b[0m\u001b[1;33m,\u001b[0m\u001b[0mimagesFeatured\u001b[0m\u001b[1;33m,\u001b[0m\u001b[0mlabels_flat\u001b[0m\u001b[1;33m[\u001b[0m\u001b[0mlen\u001b[0m\u001b[1;33m(\u001b[0m\u001b[0mimages\u001b[0m\u001b[1;33m)\u001b[0m\u001b[1;33m/\u001b[0m\u001b[1;36m10\u001b[0m\u001b[1;33m:\u001b[0m\u001b[1;33m]\u001b[0m\u001b[1;33m)\u001b[0m\u001b[1;33m\u001b[0m\u001b[0m\n\u001b[0;32m      5\u001b[0m \u001b[1;33m\u001b[0m\u001b[0m\n",
      "\u001b[1;32mC:\\Python27\\lib\\site-packages\\sklearn\\base.pyc\u001b[0m in \u001b[0;36mfit_transform\u001b[1;34m(self, X, y, **fit_params)\u001b[0m\n\u001b[0;32m    453\u001b[0m         \u001b[1;32mif\u001b[0m \u001b[0my\u001b[0m \u001b[1;32mis\u001b[0m \u001b[0mNone\u001b[0m\u001b[1;33m:\u001b[0m\u001b[1;33m\u001b[0m\u001b[0m\n\u001b[0;32m    454\u001b[0m             \u001b[1;31m# fit method of arity 1 (unsupervised transformation)\u001b[0m\u001b[1;33m\u001b[0m\u001b[1;33m\u001b[0m\u001b[0m\n\u001b[1;32m--> 455\u001b[1;33m             \u001b[1;32mreturn\u001b[0m \u001b[0mself\u001b[0m\u001b[1;33m.\u001b[0m\u001b[0mfit\u001b[0m\u001b[1;33m(\u001b[0m\u001b[0mX\u001b[0m\u001b[1;33m,\u001b[0m \u001b[1;33m**\u001b[0m\u001b[0mfit_params\u001b[0m\u001b[1;33m)\u001b[0m\u001b[1;33m.\u001b[0m\u001b[0mtransform\u001b[0m\u001b[1;33m(\u001b[0m\u001b[0mX\u001b[0m\u001b[1;33m)\u001b[0m\u001b[1;33m\u001b[0m\u001b[0m\n\u001b[0m\u001b[0;32m    456\u001b[0m         \u001b[1;32melse\u001b[0m\u001b[1;33m:\u001b[0m\u001b[1;33m\u001b[0m\u001b[0m\n\u001b[0;32m    457\u001b[0m             \u001b[1;31m# fit method of arity 2 (supervised transformation)\u001b[0m\u001b[1;33m\u001b[0m\u001b[1;33m\u001b[0m\u001b[0m\n",
      "\u001b[1;32mC:\\Python27\\lib\\site-packages\\sklearn\\neural_network\\rbm.pyc\u001b[0m in \u001b[0;36mfit\u001b[1;34m(self, X, y)\u001b[0m\n\u001b[0;32m    360\u001b[0m                       \u001b[1;34m\" time = %.2fs\"\u001b[0m\u001b[1;33m\u001b[0m\u001b[0m\n\u001b[0;32m    361\u001b[0m                       % (type(self).__name__, iteration,\n\u001b[1;32m--> 362\u001b[1;33m                          self.score_samples(X).mean(), end - begin))\n\u001b[0m\u001b[0;32m    363\u001b[0m                 \u001b[0mbegin\u001b[0m \u001b[1;33m=\u001b[0m \u001b[0mend\u001b[0m\u001b[1;33m\u001b[0m\u001b[0m\n\u001b[0;32m    364\u001b[0m \u001b[1;33m\u001b[0m\u001b[0m\n",
      "\u001b[1;32mC:\\Python27\\lib\\site-packages\\sklearn\\neural_network\\rbm.pyc\u001b[0m in \u001b[0;36mscore_samples\u001b[1;34m(self, X)\u001b[0m\n\u001b[0;32m    318\u001b[0m             \u001b[0mv_\u001b[0m\u001b[1;33m[\u001b[0m\u001b[0mind\u001b[0m\u001b[1;33m]\u001b[0m \u001b[1;33m=\u001b[0m \u001b[1;36m1\u001b[0m \u001b[1;33m-\u001b[0m \u001b[0mv_\u001b[0m\u001b[1;33m[\u001b[0m\u001b[0mind\u001b[0m\u001b[1;33m]\u001b[0m\u001b[1;33m\u001b[0m\u001b[0m\n\u001b[0;32m    319\u001b[0m \u001b[1;33m\u001b[0m\u001b[0m\n\u001b[1;32m--> 320\u001b[1;33m         \u001b[0mfe\u001b[0m \u001b[1;33m=\u001b[0m \u001b[0mself\u001b[0m\u001b[1;33m.\u001b[0m\u001b[0m_free_energy\u001b[0m\u001b[1;33m(\u001b[0m\u001b[0mv\u001b[0m\u001b[1;33m)\u001b[0m\u001b[1;33m\u001b[0m\u001b[0m\n\u001b[0m\u001b[0;32m    321\u001b[0m         \u001b[0mfe_\u001b[0m \u001b[1;33m=\u001b[0m \u001b[0mself\u001b[0m\u001b[1;33m.\u001b[0m\u001b[0m_free_energy\u001b[0m\u001b[1;33m(\u001b[0m\u001b[0mv_\u001b[0m\u001b[1;33m)\u001b[0m\u001b[1;33m\u001b[0m\u001b[0m\n\u001b[0;32m    322\u001b[0m         \u001b[1;32mreturn\u001b[0m \u001b[0mv\u001b[0m\u001b[1;33m.\u001b[0m\u001b[0mshape\u001b[0m\u001b[1;33m[\u001b[0m\u001b[1;36m1\u001b[0m\u001b[1;33m]\u001b[0m \u001b[1;33m*\u001b[0m \u001b[0mlog_logistic\u001b[0m\u001b[1;33m(\u001b[0m\u001b[0mfe_\u001b[0m \u001b[1;33m-\u001b[0m \u001b[0mfe\u001b[0m\u001b[1;33m)\u001b[0m\u001b[1;33m\u001b[0m\u001b[0m\n",
      "\u001b[1;32mC:\\Python27\\lib\\site-packages\\sklearn\\neural_network\\rbm.pyc\u001b[0m in \u001b[0;36m_free_energy\u001b[1;34m(self, v)\u001b[0m\n\u001b[0;32m    196\u001b[0m         \"\"\"\n\u001b[0;32m    197\u001b[0m         return (- safe_sparse_dot(v, self.intercept_visible_)\n\u001b[1;32m--> 198\u001b[1;33m                 - np.logaddexp(0, safe_sparse_dot(v, self.components_.T)\n\u001b[0m\u001b[0;32m    199\u001b[0m                                + self.intercept_hidden_).sum(axis=1))\n\u001b[0;32m    200\u001b[0m \u001b[1;33m\u001b[0m\u001b[0m\n",
      "\u001b[1;32mC:\\Python27\\lib\\site-packages\\sklearn\\utils\\extmath.pyc\u001b[0m in \u001b[0;36msafe_sparse_dot\u001b[1;34m(a, b, dense_output)\u001b[0m\n\u001b[0;32m    182\u001b[0m         \u001b[1;32mreturn\u001b[0m \u001b[0mret\u001b[0m\u001b[1;33m\u001b[0m\u001b[0m\n\u001b[0;32m    183\u001b[0m     \u001b[1;32melse\u001b[0m\u001b[1;33m:\u001b[0m\u001b[1;33m\u001b[0m\u001b[0m\n\u001b[1;32m--> 184\u001b[1;33m         \u001b[1;32mreturn\u001b[0m \u001b[0mfast_dot\u001b[0m\u001b[1;33m(\u001b[0m\u001b[0ma\u001b[0m\u001b[1;33m,\u001b[0m \u001b[0mb\u001b[0m\u001b[1;33m)\u001b[0m\u001b[1;33m\u001b[0m\u001b[0m\n\u001b[0m\u001b[0;32m    185\u001b[0m \u001b[1;33m\u001b[0m\u001b[0m\n\u001b[0;32m    186\u001b[0m \u001b[1;33m\u001b[0m\u001b[0m\n",
      "\u001b[1;31mKeyboardInterrupt\u001b[0m: "
     ]
    }
   ],
   "source": [
    "# Training RBM-SGDRegressor \n",
    "imagesFeatured = rbm.fit_transform(images[len(images)/10:])\n",
    "# print(imagesFeatured[0])\n",
    "sGDRegressor = fitInbatchProcess(sGDRegressor,imagesFeatured,labels_flat[len(images)/10:])\n",
    "\n",
    "\n"
   ]
  },
  {
   "cell_type": "code",
   "execution_count": 52,
   "metadata": {
    "collapsed": false
   },
   "outputs": [
    {
     "name": "stdout",
     "output_type": "stream",
     "text": [
      "[BernoulliRBM] Iteration 1, pseudo-likelihood = -104.35, time = 109.32s\n",
      "[BernoulliRBM] Iteration 2, pseudo-likelihood = -95.93, time = 209078.34s\n",
      "[BernoulliRBM] Iteration 3, pseudo-likelihood = -94.08, time = 161.85s\n",
      "[BernoulliRBM] Iteration 4, pseudo-likelihood = -89.58, time = 155.22s\n",
      "[BernoulliRBM] Iteration 5, pseudo-likelihood = -88.47, time = 162.27s\n",
      "[BernoulliRBM] Iteration 6, pseudo-likelihood = -86.62, time = 131.13s\n",
      "[BernoulliRBM] Iteration 7, pseudo-likelihood = -88.04, time = 163.60s\n",
      "[BernoulliRBM] Iteration 8, pseudo-likelihood = -85.56, time = 174.38s\n",
      "[BernoulliRBM] Iteration 9, pseudo-likelihood = -91.38, time = 179.40s\n",
      "[BernoulliRBM] Iteration 10, pseudo-likelihood = -86.99, time = 206.49s\n"
     ]
    }
   ],
   "source": [
    "testimagesFeatured = rbm.fit_transform(test_images)\n",
    "predicted_lables = sGDRegressor.predict(testimagesFeatured)"
   ]
  },
  {
   "cell_type": "code",
   "execution_count": 53,
   "metadata": {
    "collapsed": true
   },
   "outputs": [],
   "source": [
    "saveFileForSubmission(predicted_lables,'submission3.csv')"
   ]
  },
  {
   "cell_type": "code",
   "execution_count": 54,
   "metadata": {
    "collapsed": false
   },
   "outputs": [
    {
     "data": {
      "text/plain": [
       "array([[  6.15654101e-05,   9.99879631e-01,   8.57836124e-10, ...,\n",
       "          1.15734659e-10,   6.49496885e-11,   2.10592972e-15],\n",
       "       [  1.34542514e-05,   9.77053269e-18,   1.99724979e-08, ...,\n",
       "          1.35554968e-15,   1.91641854e-09,   1.40242637e-15],\n",
       "       [  9.97430032e-01,   3.46935776e-04,   5.20758398e-04, ...,\n",
       "          2.01118634e-05,   5.55517242e-06,   2.19376984e-04],\n",
       "       ..., \n",
       "       [  2.25821605e-04,   9.96466334e-01,   4.96533724e-03, ...,\n",
       "          1.79670730e-11,   2.13035549e-10,   7.97337081e-16],\n",
       "       [  1.35805650e-05,   1.20994242e-13,   4.50527136e-05, ...,\n",
       "          2.18238844e-06,   7.38599641e-07,   9.99986262e-01],\n",
       "       [  3.82498134e-03,   5.50574388e-09,   2.35481364e-05, ...,\n",
       "          8.33967495e-07,   1.29693619e-04,   9.99901193e-01]])"
      ]
     },
     "execution_count": 54,
     "metadata": {},
     "output_type": "execute_result"
    }
   ],
   "source": [
    "testimagesFeatured"
   ]
  },
  {
   "cell_type": "code",
   "execution_count": null,
   "metadata": {
    "collapsed": true
   },
   "outputs": [],
   "source": []
  }
 ],
 "metadata": {
  "kernelspec": {
   "display_name": "Python 2",
   "language": "python",
   "name": "python2"
  },
  "language_info": {
   "codemirror_mode": {
    "name": "ipython",
    "version": 2
   },
   "file_extension": ".py",
   "mimetype": "text/x-python",
   "name": "python",
   "nbconvert_exporter": "python",
   "pygments_lexer": "ipython2",
   "version": "2.7.11"
  }
 },
 "nbformat": 4,
 "nbformat_minor": 0
}
