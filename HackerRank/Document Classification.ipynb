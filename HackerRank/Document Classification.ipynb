{
 "cells": [
  {
   "cell_type": "code",
   "execution_count": 73,
   "metadata": {
    "collapsed": true
   },
   "outputs": [],
   "source": [
    "# Enter your code here. Read input from STDIN. Print output to STDOUT\n",
    "import numpy as np\n",
    "import re\n",
    "from sklearn.linear_model import SGDClassifier\n",
    "from nltk.stem import WordNetLemmatizer \n",
    "from sklearn.cross_validation import train_test_split\n",
    "from sklearn.metrics import classification_report, accuracy_score\n"
   ]
  },
  {
   "cell_type": "code",
   "execution_count": 83,
   "metadata": {
    "collapsed": false
   },
   "outputs": [],
   "source": [
    "def getTrainingData(name):\n",
    "    train_x,train_y = [],[]\n",
    "    txt = open(name)\n",
    "    n_iter = int(txt.readline())\n",
    "    for i in range(n_iter):\n",
    "        line =  txt.readline()\n",
    "        line = line.replace('\\n','')\n",
    "        y_,x_ = line.split(' ',1)\n",
    "        train_x.append(x_)\n",
    "        train_y.append(y_)\n",
    "    return train_x,train_y"
   ]
  },
  {
   "cell_type": "code",
   "execution_count": 84,
   "metadata": {
    "collapsed": false
   },
   "outputs": [],
   "source": [
    "data_x,data_y = getTrainingData('trainingdata.txt')"
   ]
  },
  {
   "cell_type": "code",
   "execution_count": 85,
   "metadata": {
    "collapsed": true
   },
   "outputs": [],
   "source": [
    "train_x, test_x, train_y, test_y = train_test_split(data_x, data_y, test_size=0.2, random_state=42)"
   ]
  },
  {
   "cell_type": "code",
   "execution_count": 86,
   "metadata": {
    "collapsed": false
   },
   "outputs": [
    {
     "data": {
      "text/plain": [
       "(4388, 17845)"
      ]
     },
     "execution_count": 86,
     "metadata": {},
     "output_type": "execute_result"
    }
   ],
   "source": [
    "from sklearn.feature_extraction.text import CountVectorizer\n",
    "count_vect = CountVectorizer()\n",
    "X_train_counts = count_vect.fit_transform(train_x)\n",
    "X_train_counts.shape"
   ]
  },
  {
   "cell_type": "code",
   "execution_count": 87,
   "metadata": {
    "collapsed": false
   },
   "outputs": [
    {
     "data": {
      "text/plain": [
       "(4388, 17845)"
      ]
     },
     "execution_count": 87,
     "metadata": {},
     "output_type": "execute_result"
    }
   ],
   "source": [
    "from sklearn.feature_extraction.text import TfidfTransformer\n",
    "tf_transformer = TfidfTransformer(use_idf=False).fit(X_train_counts)\n",
    "X_train_tf = tf_transformer.transform(X_train_counts)\n",
    "X_train_tf.shape"
   ]
  },
  {
   "cell_type": "code",
   "execution_count": 88,
   "metadata": {
    "collapsed": false
   },
   "outputs": [
    {
     "data": {
      "text/plain": [
       "(4388, 17845)"
      ]
     },
     "execution_count": 88,
     "metadata": {},
     "output_type": "execute_result"
    }
   ],
   "source": [
    "tfidf_transformer = TfidfTransformer()\n",
    "X_train_tfidf = tfidf_transformer.fit_transform(X_train_counts)\n",
    "X_train_tfidf.shape"
   ]
  },
  {
   "cell_type": "code",
   "execution_count": 89,
   "metadata": {
    "collapsed": false
   },
   "outputs": [],
   "source": [
    "from sklearn.naive_bayes import MultinomialNB\n",
    "clf = MultinomialNB().fit(X_train_tfidf, train_y)\n"
   ]
  },
  {
   "cell_type": "code",
   "execution_count": 90,
   "metadata": {
    "collapsed": true
   },
   "outputs": [],
   "source": [
    "X_new_counts = count_vect.transform(test_x)\n",
    "X_new_tfidf = tfidf_transformer.transform(X_new_counts)\n",
    "predicted = clf.predict(X_new_tfidf)\n"
   ]
  },
  {
   "cell_type": "code",
   "execution_count": 91,
   "metadata": {
    "collapsed": false
   },
   "outputs": [
    {
     "name": "stdout",
     "output_type": "stream",
     "text": [
      "             precision    recall  f1-score   support\n",
      "\n",
      "          1       0.86      0.98      0.92       556\n",
      "          2       0.70      0.96      0.81       323\n",
      "          3       1.00      0.22      0.36        54\n",
      "          4       0.00      0.00      0.00        20\n",
      "          5       0.00      0.00      0.00         9\n",
      "          6       1.00      0.13      0.23        53\n",
      "          7       1.00      0.03      0.05        38\n",
      "          8       1.00      0.07      0.13        44\n",
      "\n",
      "avg / total       0.82      0.80      0.74      1097\n",
      "\n"
     ]
    }
   ],
   "source": [
    "print(classification_report(test_y, predicted)) # Classification on each document class"
   ]
  },
  {
   "cell_type": "code",
   "execution_count": 92,
   "metadata": {
    "collapsed": false
   },
   "outputs": [],
   "source": [
    "from sklearn.svm import LinearSVC\n",
    "from sklearn.linear_model import SGDClassifier\n",
    "from sklearn.linear_model import Perceptron\n",
    "from sklearn.linear_model import PassiveAggressiveClassifier\n",
    "from sklearn.naive_bayes import BernoulliNB, MultinomialNB\n",
    "from sklearn.neighbors import KNeighborsClassifier\n",
    "from sklearn.neighbors import NearestCentroid\n",
    "from sklearn.ensemble import RandomForestClassifier\n"
   ]
  },
  {
   "cell_type": "code",
   "execution_count": 93,
   "metadata": {
    "collapsed": false
   },
   "outputs": [
    {
     "name": "stdout",
     "output_type": "stream",
     "text": [
      "             precision    recall  f1-score   support\n",
      "\n",
      "          1       0.97      0.96      0.96       556\n",
      "          2       0.81      0.99      0.89       323\n",
      "          3       0.98      0.83      0.90        54\n",
      "          4       1.00      0.25      0.40        20\n",
      "          5       1.00      0.11      0.20         9\n",
      "          6       0.97      0.70      0.81        53\n",
      "          7       0.96      0.63      0.76        38\n",
      "          8       0.85      0.66      0.74        44\n",
      "\n",
      "avg / total       0.92      0.91      0.90      1097\n",
      "\n"
     ]
    }
   ],
   "source": [
    "randomFlorest = RandomForestClassifier(n_estimators=100)\n",
    "randomFlorest = randomFlorest.fit(X_train_tfidf, train_y)\n",
    "predicted = randomFlorest.predict(X_new_tfidf)\n",
    "print(classification_report(test_y, predicted)) # Classification on each document class"
   ]
  },
  {
   "cell_type": "code",
   "execution_count": 94,
   "metadata": {
    "collapsed": false
   },
   "outputs": [
    {
     "name": "stdout",
     "output_type": "stream",
     "text": [
      "             precision    recall  f1-score   support\n",
      "\n",
      "          1       0.90      0.99      0.94       556\n",
      "          2       0.98      0.77      0.86       323\n",
      "          3       0.80      0.96      0.87        54\n",
      "          4       0.93      0.70      0.80        20\n",
      "          5       1.00      0.67      0.80         9\n",
      "          6       0.89      0.91      0.90        53\n",
      "          7       0.71      0.84      0.77        38\n",
      "          8       0.79      0.77      0.78        44\n",
      "\n",
      "avg / total       0.91      0.90      0.90      1097\n",
      "\n"
     ]
    }
   ],
   "source": [
    "clf = KNeighborsClassifier(n_neighbors=10)\n",
    "clf = clf.fit(X_train_tfidf, train_y)\n",
    "predicted = clf.predict(X_new_tfidf)\n",
    "print(classification_report(test_y, predicted)) # Classification on each document class"
   ]
  },
  {
   "cell_type": "code",
   "execution_count": 96,
   "metadata": {
    "collapsed": false
   },
   "outputs": [
    {
     "name": "stderr",
     "output_type": "stream",
     "text": [
      "C:\\Users\\alvaro.joao.silvino\\AppData\\Local\\Continuum\\Anaconda2\\lib\\site-packages\\sklearn\\svm\\classes.py:197: DeprecationWarning: loss='l2' has been deprecated in favor of loss='squared_hinge' as of 0.16. Backward compatibility for the loss='l2' will be removed in 1.0\n",
      "  DeprecationWarning)\n",
      "C:\\Users\\alvaro.joao.silvino\\AppData\\Local\\Continuum\\Anaconda2\\lib\\site-packages\\sklearn\\svm\\base.py:874: DeprecationWarning: penalty='L2' has been deprecated in favor of penalty='l2' as of 0.16. Backward compatibility for the uppercase notation will be removed in 0.18\n",
      "  DeprecationWarning)\n"
     ]
    },
    {
     "name": "stdout",
     "output_type": "stream",
     "text": [
      "             precision    recall  f1-score   support\n",
      "\n",
      "          1       0.99      0.98      0.99       556\n",
      "          2       0.95      0.98      0.97       323\n",
      "          3       0.93      0.98      0.95        54\n",
      "          4       1.00      0.95      0.97        20\n",
      "          5       1.00      0.78      0.88         9\n",
      "          6       0.96      0.94      0.95        53\n",
      "          7       0.94      0.89      0.92        38\n",
      "          8       0.93      0.84      0.88        44\n",
      "\n",
      "avg / total       0.97      0.97      0.97      1097\n",
      "\n"
     ]
    }
   ],
   "source": [
    "clf = LinearSVC(loss='l2', penalty=\"L2\", dual=False, tol=1e-3)\n",
    "clf = clf.fit(X_train_tfidf, train_y)\n",
    "predicted = clf.predict(X_new_tfidf)\n",
    "print(classification_report(test_y, predicted))"
   ]
  },
  {
   "cell_type": "code",
   "execution_count": 97,
   "metadata": {
    "collapsed": false
   },
   "outputs": [
    {
     "name": "stdout",
     "output_type": "stream",
     "text": [
      "(5485, 19956)\n"
     ]
    },
    {
     "name": "stderr",
     "output_type": "stream",
     "text": [
      "C:\\Users\\alvaro.joao.silvino\\AppData\\Local\\Continuum\\Anaconda2\\lib\\site-packages\\sklearn\\svm\\classes.py:197: DeprecationWarning: loss='l2' has been deprecated in favor of loss='squared_hinge' as of 0.16. Backward compatibility for the loss='l2' will be removed in 1.0\n",
      "  DeprecationWarning)\n",
      "C:\\Users\\alvaro.joao.silvino\\AppData\\Local\\Continuum\\Anaconda2\\lib\\site-packages\\sklearn\\svm\\base.py:874: DeprecationWarning: penalty='L2' has been deprecated in favor of penalty='l2' as of 0.16. Backward compatibility for the uppercase notation will be removed in 0.18\n",
      "  DeprecationWarning)\n"
     ]
    },
    {
     "data": {
      "text/plain": [
       "LinearSVC(C=1.0, class_weight=None, dual=False, fit_intercept=True,\n",
       "     intercept_scaling=1, loss='squared_hinge', max_iter=1000,\n",
       "     multi_class='ovr', penalty='L2', random_state=None, tol=0.001,\n",
       "     verbose=0)"
      ]
     },
     "execution_count": 97,
     "metadata": {},
     "output_type": "execute_result"
    }
   ],
   "source": []
  },
  {
   "cell_type": "code",
   "execution_count": 98,
   "metadata": {
    "collapsed": false
   },
   "outputs": [
    {
     "name": "stdout",
     "output_type": "stream",
     "text": [
      "(5485, 19956)\n"
     ]
    },
    {
     "data": {
      "text/plain": [
       "LinearSVC(C=1.0, class_weight=None, dual=False, fit_intercept=True,\n",
       "     intercept_scaling=1, loss='squared_hinge', max_iter=1000,\n",
       "     multi_class='ovr', penalty='l2', random_state=None, tol=0.001,\n",
       "     verbose=0)"
      ]
     },
     "execution_count": 98,
     "metadata": {},
     "output_type": "execute_result"
    }
   ],
   "source": [
    "# Enter your code here. Read input from STDIN. Print output to STDOUT\n",
    "import sys\n",
    "from sklearn.svm import LinearSVC\n",
    "from nltk.stem import WordNetLemmatizer \n",
    "from sklearn.feature_extraction.text import CountVectorizer\n",
    "from sklearn.feature_extraction.text import TfidfTransformer\n",
    "\n",
    "def getTrainingData(name):\n",
    "    train_x,train_y = [],[]\n",
    "    txt = open(name)\n",
    "    n_iter = int(txt.readline())\n",
    "    for i in range(n_iter):\n",
    "        line =  txt.readline()\n",
    "        line = line.replace('\\n','')\n",
    "        y_,x_ = line.split(' ',1)\n",
    "        train_x.append(x_)\n",
    "        train_y.append(y_)\n",
    "    return train_x,train_y\n",
    "\n",
    "data_x,data_y = getTrainingData('trainingdata.txt')\n",
    "\n",
    "count_vect = CountVectorizer()\n",
    "X_train_counts = count_vect.fit_transform(data_x)\n",
    "print X_train_counts.shape\n",
    "\n",
    "tfidf_transformer = TfidfTransformer()\n",
    "X_train_tfidf = tfidf_transformer.fit_transform(X_train_counts)\n",
    "\n",
    "clf = LinearSVC(loss='squared_hinge', penalty=\"l2\", dual=False, tol=1e-3)\n",
    "clf = clf.fit(X_train_tfidf, data_y)\n",
    "clf"
   ]
  },
  {
   "cell_type": "code",
   "execution_count": null,
   "metadata": {
    "collapsed": true
   },
   "outputs": [],
   "source": []
  }
 ],
 "metadata": {
  "kernelspec": {
   "display_name": "Python 2",
   "language": "python",
   "name": "python2"
  },
  "language_info": {
   "codemirror_mode": {
    "name": "ipython",
    "version": 2
   },
   "file_extension": ".py",
   "mimetype": "text/x-python",
   "name": "python",
   "nbconvert_exporter": "python",
   "pygments_lexer": "ipython2",
   "version": "2.7.11"
  }
 },
 "nbformat": 4,
 "nbformat_minor": 0
}
