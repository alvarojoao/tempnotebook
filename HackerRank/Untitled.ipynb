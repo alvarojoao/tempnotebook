{
 "cells": [
  {
   "cell_type": "code",
   "execution_count": 56,
   "metadata": {
    "collapsed": false
   },
   "outputs": [],
   "source": [
    "import numpy as np\n",
    "name = \"text3.txt\"\n"
   ]
  },
  {
   "cell_type": "code",
   "execution_count": 46,
   "metadata": {
    "collapsed": false
   },
   "outputs": [],
   "source": [
    "data = [['b', 'd', 'o', 'o', 'o'], ['-', 'd', 'o', 'o', 'o'], ['o', 'o', 'o', 'o', 'o'], \n",
    "        ['o', 'o', 'o', 'o', 'o'], ['o', 'o', 'o', 'o', 'o']]\n",
    "\n",
    "    f = open(name,'w+')\n",
    "for i in range(len(data)):\n",
    "    for j in range(len(data[i])):\n",
    "        f.write(\"%s\" % (data[i][j]))\n",
    "    f.write(\"\\n\")\n",
    "f.close()\n",
    "    "
   ]
  },
  {
   "cell_type": "code",
   "execution_count": 58,
   "metadata": {
    "collapsed": false
   },
   "outputs": [
    {
     "name": "stdout",
     "output_type": "stream",
     "text": [
      "\n"
     ]
    }
   ],
   "source": [
    "try:\n",
    "    f = open(name,'r+')\n",
    "    data2 = [[j for j in f.readline().strip()] for i in range(5)]\n",
    "    data2\n",
    "except:\n",
    "    print \"\""
   ]
  },
  {
   "cell_type": "code",
   "execution_count": 10,
   "metadata": {
    "collapsed": false
   },
   "outputs": [
    {
     "data": {
      "text/plain": [
       "20"
      ]
     },
     "execution_count": 10,
     "metadata": {},
     "output_type": "execute_result"
    }
   ],
   "source": [
    "# from scipy import ndimage\n",
    "# import numpy as np\n",
    "# from numpy import array\n",
    "\n",
    "# struct1 = array([[1,  1, 1],\n",
    "#        [ 1,  1,  1],\n",
    "#        [1,  1, 1]])\n",
    "# image = array([[0,0,0,0,0,0,0,0,0,0],\n",
    "# [0,1,1,1,1,1,1,1,0,0],\n",
    "# [0,0,0,0,1,1,1,1,0,0],\n",
    "# [0,0,0,0,1,1,1,1,0,0],\n",
    "# [0,0,0,1,1,1,1,1,0,0],\n",
    "# [0,0,0,0,1,1,1,1,0,0],\n",
    "# [0,0,0,1,1,0,0,0,0,0],\n",
    "# [0,0,0,0,0,0,0,0,0,0],\n",
    "# [0,0,0,0,0,0,0,0,0,0]])\n",
    "\n",
    "# image = ndimage.binary_opening(image,struct1)\n",
    "# sum([1 for i in image.flatten() if i==True])"
   ]
  },
  {
   "cell_type": "code",
   "execution_count": 11,
   "metadata": {
    "collapsed": false
   },
   "outputs": [
    {
     "data": {
      "text/plain": [
       "array([[False, False, False, False, False],\n",
       "       [False, False,  True,  True, False],\n",
       "       [False, False,  True,  True, False],\n",
       "       [False, False, False, False, False]], dtype=bool)"
      ]
     },
     "execution_count": 11,
     "metadata": {},
     "output_type": "execute_result"
    }
   ],
   "source": [
    "from scipy import ndimage\n",
    "import numpy as np\n",
    "from numpy import array\n",
    "\n",
    "struct1 = array([[1],\n",
    "       [ 1],\n",
    "       [1]])\n",
    "image = array([[0,0,1,1,0],\n",
    "[0,0,1,1,0],\n",
    "[0,0,1,1,0],\n",
    "[1,1,1,1,1]])\n",
    "\n",
    "image = ndimage.binary_erosion(image,struct1)\n",
    "image\n"
   ]
  },
  {
   "cell_type": "code",
   "execution_count": 17,
   "metadata": {
    "collapsed": false
   },
   "outputs": [
    {
     "data": {
      "text/plain": [
       "array([[False,  True,  True, False],\n",
       "       [False,  True,  True,  True],\n",
       "       [False, False, False, False]], dtype=bool)"
      ]
     },
     "execution_count": 17,
     "metadata": {},
     "output_type": "execute_result"
    }
   ],
   "source": [
    "from scipy import ndimage\n",
    "import numpy as np\n",
    "from numpy import array\n",
    "\n",
    "struct1 = array([[0,1,0],\n",
    "       [0,1,1],\n",
    "                [0,0,0]])\n",
    "image = array([[0,0,0,0],\n",
    "[0,1,1,0],\n",
    "[0,0,0,0]])\n",
    "\n",
    "image = ndimage.binary_dilation(image,struct1)\n",
    "image\n"
   ]
  },
  {
   "cell_type": "code",
   "execution_count": null,
   "metadata": {
    "collapsed": true
   },
   "outputs": [],
   "source": []
  }
 ],
 "metadata": {
  "kernelspec": {
   "display_name": "Python 2",
   "language": "python",
   "name": "python2"
  },
  "language_info": {
   "codemirror_mode": {
    "name": "ipython",
    "version": 2
   },
   "file_extension": ".py",
   "mimetype": "text/x-python",
   "name": "python",
   "nbconvert_exporter": "python",
   "pygments_lexer": "ipython2",
   "version": "2.7.11"
  }
 },
 "nbformat": 4,
 "nbformat_minor": 0
}
